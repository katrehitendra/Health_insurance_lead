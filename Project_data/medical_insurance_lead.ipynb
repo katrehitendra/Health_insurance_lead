{
 "cells": [
  {
   "cell_type": "code",
   "execution_count": 1,
   "id": "4c7e3c81",
   "metadata": {},
   "outputs": [],
   "source": [
    "import pandas as pd\n",
    "import numpy as np\n",
    "import pickle\n",
    "import json\n",
    "import matplotlib.pyplot as plt\n",
    "import seaborn as sns\n",
    "from scipy.stats import mode\n",
    "from sklearn.preprocessing import StandardScaler\n",
    "from sklearn.decomposition import PCA\n",
    "from sklearn.model_selection import train_test_split, GridSearchCV,RandomizedSearchCV\n",
    "from sklearn.linear_model import LogisticRegression\n",
    "from sklearn.tree import DecisionTreeClassifier\n",
    "from sklearn.ensemble import RandomForestClassifier,AdaBoostClassifier,GradientBoostingClassifier\n",
    "from sklearn.neighbors import KNeighborsClassifier\n",
    "from xgboost import XGBClassifier\n",
    "from sklearn.preprocessing import LabelEncoder,OrdinalEncoder,OneHotEncoder\n",
    "from sklearn.metrics import f1_score,recall_score,accuracy_score,precision_score,confusion_matrix\n",
    "from sklearn.metrics import confusion_matrix,classification_report,roc_curve,precision_recall_curve\n",
    "from imblearn.over_sampling import RandomOverSampler,SMOTE\n",
    "import warnings\n",
    "warnings.filterwarnings(\"ignore\")"
   ]
  },
  {
   "cell_type": "markdown",
   "id": "4b860870",
   "metadata": {},
   "source": [
    "# 1.Health-Insurance-Lead-Prediction"
   ]
  },
  {
   "cell_type": "code",
   "execution_count": null,
   "id": "e897867c",
   "metadata": {},
   "outputs": [],
   "source": []
  },
  {
   "cell_type": "markdown",
   "id": "c7ad6f9f",
   "metadata": {},
   "source": [
    "# 2.Data Gathering"
   ]
  },
  {
   "cell_type": "code",
   "execution_count": 2,
   "id": "8d318974",
   "metadata": {},
   "outputs": [
    {
     "data": {
      "text/html": [
       "<div>\n",
       "<style scoped>\n",
       "    .dataframe tbody tr th:only-of-type {\n",
       "        vertical-align: middle;\n",
       "    }\n",
       "\n",
       "    .dataframe tbody tr th {\n",
       "        vertical-align: top;\n",
       "    }\n",
       "\n",
       "    .dataframe thead th {\n",
       "        text-align: right;\n",
       "    }\n",
       "</style>\n",
       "<table border=\"1\" class=\"dataframe\">\n",
       "  <thead>\n",
       "    <tr style=\"text-align: right;\">\n",
       "      <th></th>\n",
       "      <th>ID</th>\n",
       "      <th>City_Code</th>\n",
       "      <th>Region_Code</th>\n",
       "      <th>Accomodation_Type</th>\n",
       "      <th>Reco_Insurance_Type</th>\n",
       "      <th>Upper_Age</th>\n",
       "      <th>Lower_Age</th>\n",
       "      <th>Is_Spouse</th>\n",
       "      <th>Health Indicator</th>\n",
       "      <th>Holding_Policy_Duration</th>\n",
       "      <th>Holding_Policy_Type</th>\n",
       "      <th>Reco_Policy_Cat</th>\n",
       "      <th>Reco_Policy_Premium</th>\n",
       "      <th>Response</th>\n",
       "    </tr>\n",
       "  </thead>\n",
       "  <tbody>\n",
       "    <tr>\n",
       "      <th>0</th>\n",
       "      <td>1</td>\n",
       "      <td>C3</td>\n",
       "      <td>3213</td>\n",
       "      <td>Rented</td>\n",
       "      <td>Individual</td>\n",
       "      <td>36</td>\n",
       "      <td>36</td>\n",
       "      <td>No</td>\n",
       "      <td>X1</td>\n",
       "      <td>14+</td>\n",
       "      <td>3.0</td>\n",
       "      <td>22</td>\n",
       "      <td>11628.0</td>\n",
       "      <td>0</td>\n",
       "    </tr>\n",
       "    <tr>\n",
       "      <th>1</th>\n",
       "      <td>2</td>\n",
       "      <td>C5</td>\n",
       "      <td>1117</td>\n",
       "      <td>Owned</td>\n",
       "      <td>Joint</td>\n",
       "      <td>75</td>\n",
       "      <td>22</td>\n",
       "      <td>No</td>\n",
       "      <td>X2</td>\n",
       "      <td>NaN</td>\n",
       "      <td>NaN</td>\n",
       "      <td>22</td>\n",
       "      <td>30510.0</td>\n",
       "      <td>0</td>\n",
       "    </tr>\n",
       "    <tr>\n",
       "      <th>2</th>\n",
       "      <td>3</td>\n",
       "      <td>C5</td>\n",
       "      <td>3732</td>\n",
       "      <td>Owned</td>\n",
       "      <td>Individual</td>\n",
       "      <td>32</td>\n",
       "      <td>32</td>\n",
       "      <td>No</td>\n",
       "      <td>NaN</td>\n",
       "      <td>1.0</td>\n",
       "      <td>1.0</td>\n",
       "      <td>19</td>\n",
       "      <td>7450.0</td>\n",
       "      <td>1</td>\n",
       "    </tr>\n",
       "    <tr>\n",
       "      <th>3</th>\n",
       "      <td>4</td>\n",
       "      <td>C24</td>\n",
       "      <td>4378</td>\n",
       "      <td>Owned</td>\n",
       "      <td>Joint</td>\n",
       "      <td>52</td>\n",
       "      <td>48</td>\n",
       "      <td>No</td>\n",
       "      <td>X1</td>\n",
       "      <td>14+</td>\n",
       "      <td>3.0</td>\n",
       "      <td>19</td>\n",
       "      <td>17780.0</td>\n",
       "      <td>0</td>\n",
       "    </tr>\n",
       "    <tr>\n",
       "      <th>4</th>\n",
       "      <td>5</td>\n",
       "      <td>C8</td>\n",
       "      <td>2190</td>\n",
       "      <td>Rented</td>\n",
       "      <td>Individual</td>\n",
       "      <td>44</td>\n",
       "      <td>44</td>\n",
       "      <td>No</td>\n",
       "      <td>X2</td>\n",
       "      <td>3.0</td>\n",
       "      <td>1.0</td>\n",
       "      <td>16</td>\n",
       "      <td>10404.0</td>\n",
       "      <td>0</td>\n",
       "    </tr>\n",
       "    <tr>\n",
       "      <th>5</th>\n",
       "      <td>6</td>\n",
       "      <td>C9</td>\n",
       "      <td>1785</td>\n",
       "      <td>Rented</td>\n",
       "      <td>Individual</td>\n",
       "      <td>52</td>\n",
       "      <td>52</td>\n",
       "      <td>No</td>\n",
       "      <td>X2</td>\n",
       "      <td>5.0</td>\n",
       "      <td>1.0</td>\n",
       "      <td>22</td>\n",
       "      <td>15264.0</td>\n",
       "      <td>1</td>\n",
       "    </tr>\n",
       "    <tr>\n",
       "      <th>6</th>\n",
       "      <td>7</td>\n",
       "      <td>C3</td>\n",
       "      <td>679</td>\n",
       "      <td>Owned</td>\n",
       "      <td>Individual</td>\n",
       "      <td>28</td>\n",
       "      <td>28</td>\n",
       "      <td>No</td>\n",
       "      <td>NaN</td>\n",
       "      <td>NaN</td>\n",
       "      <td>NaN</td>\n",
       "      <td>17</td>\n",
       "      <td>10640.0</td>\n",
       "      <td>0</td>\n",
       "    </tr>\n",
       "    <tr>\n",
       "      <th>7</th>\n",
       "      <td>8</td>\n",
       "      <td>C1</td>\n",
       "      <td>3175</td>\n",
       "      <td>Owned</td>\n",
       "      <td>Joint</td>\n",
       "      <td>75</td>\n",
       "      <td>73</td>\n",
       "      <td>Yes</td>\n",
       "      <td>X4</td>\n",
       "      <td>9.0</td>\n",
       "      <td>4.0</td>\n",
       "      <td>17</td>\n",
       "      <td>29344.0</td>\n",
       "      <td>1</td>\n",
       "    </tr>\n",
       "    <tr>\n",
       "      <th>8</th>\n",
       "      <td>9</td>\n",
       "      <td>C15</td>\n",
       "      <td>3497</td>\n",
       "      <td>Owned</td>\n",
       "      <td>Joint</td>\n",
       "      <td>52</td>\n",
       "      <td>43</td>\n",
       "      <td>No</td>\n",
       "      <td>X1</td>\n",
       "      <td>14.0</td>\n",
       "      <td>3.0</td>\n",
       "      <td>1</td>\n",
       "      <td>27283.2</td>\n",
       "      <td>0</td>\n",
       "    </tr>\n",
       "    <tr>\n",
       "      <th>9</th>\n",
       "      <td>10</td>\n",
       "      <td>C1</td>\n",
       "      <td>530</td>\n",
       "      <td>Owned</td>\n",
       "      <td>Joint</td>\n",
       "      <td>59</td>\n",
       "      <td>26</td>\n",
       "      <td>Yes</td>\n",
       "      <td>NaN</td>\n",
       "      <td>7.0</td>\n",
       "      <td>4.0</td>\n",
       "      <td>18</td>\n",
       "      <td>21100.8</td>\n",
       "      <td>1</td>\n",
       "    </tr>\n",
       "  </tbody>\n",
       "</table>\n",
       "</div>"
      ],
      "text/plain": [
       "   ID City_Code  Region_Code Accomodation_Type Reco_Insurance_Type  Upper_Age  \\\n",
       "0   1        C3         3213            Rented          Individual         36   \n",
       "1   2        C5         1117             Owned               Joint         75   \n",
       "2   3        C5         3732             Owned          Individual         32   \n",
       "3   4       C24         4378             Owned               Joint         52   \n",
       "4   5        C8         2190            Rented          Individual         44   \n",
       "5   6        C9         1785            Rented          Individual         52   \n",
       "6   7        C3          679             Owned          Individual         28   \n",
       "7   8        C1         3175             Owned               Joint         75   \n",
       "8   9       C15         3497             Owned               Joint         52   \n",
       "9  10        C1          530             Owned               Joint         59   \n",
       "\n",
       "   Lower_Age Is_Spouse Health Indicator Holding_Policy_Duration  \\\n",
       "0         36        No               X1                     14+   \n",
       "1         22        No               X2                     NaN   \n",
       "2         32        No              NaN                     1.0   \n",
       "3         48        No               X1                     14+   \n",
       "4         44        No               X2                     3.0   \n",
       "5         52        No               X2                     5.0   \n",
       "6         28        No              NaN                     NaN   \n",
       "7         73       Yes               X4                     9.0   \n",
       "8         43        No               X1                    14.0   \n",
       "9         26       Yes              NaN                     7.0   \n",
       "\n",
       "   Holding_Policy_Type  Reco_Policy_Cat  Reco_Policy_Premium  Response  \n",
       "0                  3.0               22              11628.0         0  \n",
       "1                  NaN               22              30510.0         0  \n",
       "2                  1.0               19               7450.0         1  \n",
       "3                  3.0               19              17780.0         0  \n",
       "4                  1.0               16              10404.0         0  \n",
       "5                  1.0               22              15264.0         1  \n",
       "6                  NaN               17              10640.0         0  \n",
       "7                  4.0               17              29344.0         1  \n",
       "8                  3.0                1              27283.2         0  \n",
       "9                  4.0               18              21100.8         1  "
      ]
     },
     "execution_count": 2,
     "metadata": {},
     "output_type": "execute_result"
    }
   ],
   "source": [
    "traindf = pd.read_csv(\"Health Insurance Lead Prediction Raw Data.csv\")\n",
    "testdf = pd.read_csv('test.csv')\n",
    "traindf.head(10)"
   ]
  },
  {
   "cell_type": "markdown",
   "id": "668846b8",
   "metadata": {},
   "source": [
    "# 3.Exploratory Data Analysis"
   ]
  },
  {
   "cell_type": "code",
   "execution_count": 3,
   "id": "c67a3091",
   "metadata": {},
   "outputs": [
    {
     "name": "stdout",
     "output_type": "stream",
     "text": [
      "<class 'pandas.core.frame.DataFrame'>\n",
      "RangeIndex: 50882 entries, 0 to 50881\n",
      "Data columns (total 14 columns):\n",
      " #   Column                   Non-Null Count  Dtype  \n",
      "---  ------                   --------------  -----  \n",
      " 0   ID                       50882 non-null  int64  \n",
      " 1   City_Code                50882 non-null  object \n",
      " 2   Region_Code              50882 non-null  int64  \n",
      " 3   Accomodation_Type        50882 non-null  object \n",
      " 4   Reco_Insurance_Type      50882 non-null  object \n",
      " 5   Upper_Age                50882 non-null  int64  \n",
      " 6   Lower_Age                50882 non-null  int64  \n",
      " 7   Is_Spouse                50882 non-null  object \n",
      " 8   Health Indicator         39191 non-null  object \n",
      " 9   Holding_Policy_Duration  30631 non-null  object \n",
      " 10  Holding_Policy_Type      30631 non-null  float64\n",
      " 11  Reco_Policy_Cat          50882 non-null  int64  \n",
      " 12  Reco_Policy_Premium      50882 non-null  float64\n",
      " 13  Response                 50882 non-null  int64  \n",
      "dtypes: float64(2), int64(6), object(6)\n",
      "memory usage: 5.4+ MB\n"
     ]
    }
   ],
   "source": [
    "traindf.info()"
   ]
  },
  {
   "cell_type": "markdown",
   "id": "2b704578",
   "metadata": {},
   "source": [
    "### Description of data"
   ]
  },
  {
   "cell_type": "code",
   "execution_count": 4,
   "id": "c21c3613",
   "metadata": {},
   "outputs": [
    {
     "data": {
      "text/html": [
       "<div>\n",
       "<style scoped>\n",
       "    .dataframe tbody tr th:only-of-type {\n",
       "        vertical-align: middle;\n",
       "    }\n",
       "\n",
       "    .dataframe tbody tr th {\n",
       "        vertical-align: top;\n",
       "    }\n",
       "\n",
       "    .dataframe thead th {\n",
       "        text-align: right;\n",
       "    }\n",
       "</style>\n",
       "<table border=\"1\" class=\"dataframe\">\n",
       "  <thead>\n",
       "    <tr style=\"text-align: right;\">\n",
       "      <th></th>\n",
       "      <th>ID</th>\n",
       "      <th>Region_Code</th>\n",
       "      <th>Upper_Age</th>\n",
       "      <th>Lower_Age</th>\n",
       "      <th>Holding_Policy_Type</th>\n",
       "      <th>Reco_Policy_Cat</th>\n",
       "      <th>Reco_Policy_Premium</th>\n",
       "      <th>Response</th>\n",
       "    </tr>\n",
       "  </thead>\n",
       "  <tbody>\n",
       "    <tr>\n",
       "      <th>count</th>\n",
       "      <td>50882.000000</td>\n",
       "      <td>50882.000000</td>\n",
       "      <td>50882.000000</td>\n",
       "      <td>50882.000000</td>\n",
       "      <td>30631.000000</td>\n",
       "      <td>50882.000000</td>\n",
       "      <td>50882.000000</td>\n",
       "      <td>50882.000000</td>\n",
       "    </tr>\n",
       "    <tr>\n",
       "      <th>mean</th>\n",
       "      <td>25441.500000</td>\n",
       "      <td>1732.788707</td>\n",
       "      <td>44.856275</td>\n",
       "      <td>42.738866</td>\n",
       "      <td>2.439228</td>\n",
       "      <td>15.115188</td>\n",
       "      <td>14183.950069</td>\n",
       "      <td>0.239947</td>\n",
       "    </tr>\n",
       "    <tr>\n",
       "      <th>std</th>\n",
       "      <td>14688.512535</td>\n",
       "      <td>1424.081652</td>\n",
       "      <td>17.310271</td>\n",
       "      <td>17.319375</td>\n",
       "      <td>1.025923</td>\n",
       "      <td>6.340663</td>\n",
       "      <td>6590.074873</td>\n",
       "      <td>0.427055</td>\n",
       "    </tr>\n",
       "    <tr>\n",
       "      <th>min</th>\n",
       "      <td>1.000000</td>\n",
       "      <td>1.000000</td>\n",
       "      <td>18.000000</td>\n",
       "      <td>16.000000</td>\n",
       "      <td>1.000000</td>\n",
       "      <td>1.000000</td>\n",
       "      <td>2280.000000</td>\n",
       "      <td>0.000000</td>\n",
       "    </tr>\n",
       "    <tr>\n",
       "      <th>25%</th>\n",
       "      <td>12721.250000</td>\n",
       "      <td>523.000000</td>\n",
       "      <td>28.000000</td>\n",
       "      <td>27.000000</td>\n",
       "      <td>1.000000</td>\n",
       "      <td>12.000000</td>\n",
       "      <td>9248.000000</td>\n",
       "      <td>0.000000</td>\n",
       "    </tr>\n",
       "    <tr>\n",
       "      <th>50%</th>\n",
       "      <td>25441.500000</td>\n",
       "      <td>1391.000000</td>\n",
       "      <td>44.000000</td>\n",
       "      <td>40.000000</td>\n",
       "      <td>3.000000</td>\n",
       "      <td>17.000000</td>\n",
       "      <td>13178.000000</td>\n",
       "      <td>0.000000</td>\n",
       "    </tr>\n",
       "    <tr>\n",
       "      <th>75%</th>\n",
       "      <td>38161.750000</td>\n",
       "      <td>2667.000000</td>\n",
       "      <td>59.000000</td>\n",
       "      <td>57.000000</td>\n",
       "      <td>3.000000</td>\n",
       "      <td>20.000000</td>\n",
       "      <td>18096.000000</td>\n",
       "      <td>0.000000</td>\n",
       "    </tr>\n",
       "    <tr>\n",
       "      <th>max</th>\n",
       "      <td>50882.000000</td>\n",
       "      <td>6194.000000</td>\n",
       "      <td>75.000000</td>\n",
       "      <td>75.000000</td>\n",
       "      <td>4.000000</td>\n",
       "      <td>22.000000</td>\n",
       "      <td>43350.400000</td>\n",
       "      <td>1.000000</td>\n",
       "    </tr>\n",
       "  </tbody>\n",
       "</table>\n",
       "</div>"
      ],
      "text/plain": [
       "                 ID   Region_Code     Upper_Age     Lower_Age  \\\n",
       "count  50882.000000  50882.000000  50882.000000  50882.000000   \n",
       "mean   25441.500000   1732.788707     44.856275     42.738866   \n",
       "std    14688.512535   1424.081652     17.310271     17.319375   \n",
       "min        1.000000      1.000000     18.000000     16.000000   \n",
       "25%    12721.250000    523.000000     28.000000     27.000000   \n",
       "50%    25441.500000   1391.000000     44.000000     40.000000   \n",
       "75%    38161.750000   2667.000000     59.000000     57.000000   \n",
       "max    50882.000000   6194.000000     75.000000     75.000000   \n",
       "\n",
       "       Holding_Policy_Type  Reco_Policy_Cat  Reco_Policy_Premium      Response  \n",
       "count         30631.000000     50882.000000         50882.000000  50882.000000  \n",
       "mean              2.439228        15.115188         14183.950069      0.239947  \n",
       "std               1.025923         6.340663          6590.074873      0.427055  \n",
       "min               1.000000         1.000000          2280.000000      0.000000  \n",
       "25%               1.000000        12.000000          9248.000000      0.000000  \n",
       "50%               3.000000        17.000000         13178.000000      0.000000  \n",
       "75%               3.000000        20.000000         18096.000000      0.000000  \n",
       "max               4.000000        22.000000         43350.400000      1.000000  "
      ]
     },
     "execution_count": 4,
     "metadata": {},
     "output_type": "execute_result"
    }
   ],
   "source": [
    "traindf.describe()"
   ]
  },
  {
   "cell_type": "markdown",
   "id": "7867f255",
   "metadata": {},
   "source": [
    "### target : Response"
   ]
  },
  {
   "cell_type": "code",
   "execution_count": 5,
   "id": "b690bf45",
   "metadata": {},
   "outputs": [
    {
     "data": {
      "text/plain": [
       "0    38673\n",
       "1    12209\n",
       "Name: Response, dtype: int64"
      ]
     },
     "execution_count": 5,
     "metadata": {},
     "output_type": "execute_result"
    }
   ],
   "source": [
    "traindf[\"Response\"].value_counts()"
   ]
  },
  {
   "cell_type": "code",
   "execution_count": 6,
   "id": "2018a688",
   "metadata": {},
   "outputs": [
    {
     "data": {
      "text/plain": [
       "<AxesSubplot:xlabel='Response', ylabel='count'>"
      ]
     },
     "execution_count": 6,
     "metadata": {},
     "output_type": "execute_result"
    },
    {
     "data": {
      "image/png": "[encoded data removed]",
      "text/plain": [
       "<Figure size 640x480 with 1 Axes>"
      ]
     },
     "metadata": {},
     "output_type": "display_data"
    }
   ],
   "source": [
    "sns.countplot(traindf[\"Response\"])"
   ]
  },
  {
   "cell_type": "markdown",
   "id": "b39f58eb",
   "metadata": {},
   "source": [
    "* It is a binary calss classification problem.\n",
    "* From the above plot we can understand that there is a problem of imbalance in dataset."
   ]
  },
  {
   "cell_type": "markdown",
   "id": "29fb87df",
   "metadata": {},
   "source": [
    "### Duplicate checks"
   ]
  },
  {
   "cell_type": "code",
   "execution_count": 7,
   "id": "61705f3e",
   "metadata": {},
   "outputs": [
    {
     "data": {
      "text/plain": [
       "0"
      ]
     },
     "execution_count": 7,
     "metadata": {},
     "output_type": "execute_result"
    }
   ],
   "source": [
    "traindf.duplicated().sum()"
   ]
  },
  {
   "cell_type": "markdown",
   "id": "ca84cd17",
   "metadata": {},
   "source": [
    "### Nan/Null Value checks"
   ]
  },
  {
   "cell_type": "code",
   "execution_count": 8,
   "id": "e25f8585",
   "metadata": {},
   "outputs": [
    {
     "name": "stdout",
     "output_type": "stream",
     "text": [
      "ID                             0\n",
      "City_Code                      0\n",
      "Region_Code                    0\n",
      "Accomodation_Type              0\n",
      "Reco_Insurance_Type            0\n",
      "Upper_Age                      0\n",
      "Lower_Age                      0\n",
      "Is_Spouse                      0\n",
      "Health Indicator           11691\n",
      "Holding_Policy_Duration    20251\n",
      "Holding_Policy_Type        20251\n",
      "Reco_Policy_Cat                0\n",
      "Reco_Policy_Premium            0\n",
      "Response                       0\n",
      "dtype: int64\n"
     ]
    }
   ],
   "source": [
    "print(traindf.isna().sum())\n"
   ]
  },
  {
   "cell_type": "code",
   "execution_count": 9,
   "id": "2e336d4a",
   "metadata": {},
   "outputs": [
    {
     "name": "stdout",
     "output_type": "stream",
     "text": [
      "ID                            0\n",
      "City_Code                     0\n",
      "Region_Code                   0\n",
      "Accomodation_Type             0\n",
      "Reco_Insurance_Type           0\n",
      "Upper_Age                     0\n",
      "Lower_Age                     0\n",
      "Is_Spouse                     0\n",
      "Health Indicator           5027\n",
      "Holding_Policy_Duration    8603\n",
      "Holding_Policy_Type        8603\n",
      "Reco_Policy_Cat               0\n",
      "Reco_Policy_Premium           0\n",
      "dtype: int64\n"
     ]
    }
   ],
   "source": [
    "print(testdf.isna().sum())"
   ]
  },
  {
   "cell_type": "markdown",
   "id": "35c984c0",
   "metadata": {},
   "source": [
    "* There is a large number of NaN/Null values are present in both train and test dataset \n",
    "  Therefore dropping the row is not good because we are reducing actual data in a large amount.\n",
    "* We want to consider some imputation method to fill the values."
   ]
  },
  {
   "cell_type": "raw",
   "id": "c95a0e4e",
   "metadata": {},
   "source": [
    "Missing values are found in three columns\n",
    "1.Health Indicator           \n",
    "2.Holding_Policy_Duration    \n",
    "3.Holding_Policy_Type        "
   ]
  },
  {
   "cell_type": "code",
   "execution_count": 10,
   "id": "e535e521",
   "metadata": {},
   "outputs": [
    {
     "data": {
      "text/plain": [
       "X1    13010\n",
       "X2    10332\n",
       "X3     6762\n",
       "X4     5743\n",
       "X5     1727\n",
       "X6     1280\n",
       "X7      196\n",
       "X8       78\n",
       "X9       63\n",
       "Name: Health Indicator, dtype: int64"
      ]
     },
     "execution_count": 10,
     "metadata": {},
     "output_type": "execute_result"
    }
   ],
   "source": [
    "traindf['Health Indicator'].value_counts() # we can use mode for imputation"
   ]
  },
  {
   "cell_type": "code",
   "execution_count": 11,
   "id": "26817dae",
   "metadata": {},
   "outputs": [
    {
     "data": {
      "text/plain": [
       "1.0     4499\n",
       "14+     4335\n",
       "2.0     4260\n",
       "3.0     3586\n",
       "4.0     2771\n",
       "5.0     2362\n",
       "6.0     1894\n",
       "7.0     1645\n",
       "8.0     1316\n",
       "9.0     1114\n",
       "10.0     813\n",
       "11.0     546\n",
       "12.0     513\n",
       "13.0     511\n",
       "14.0     466\n",
       "Name: Holding_Policy_Duration, dtype: int64"
      ]
     },
     "execution_count": 11,
     "metadata": {},
     "output_type": "execute_result"
    }
   ],
   "source": [
    "traindf['Holding_Policy_Duration'].value_counts() # we use here mode for imputation\n",
    "# Also we have to replace 14+ with 15 for encoding"
   ]
  },
  {
   "cell_type": "code",
   "execution_count": 12,
   "id": "d23e90b7",
   "metadata": {},
   "outputs": [
    {
     "data": {
      "text/plain": [
       "3.0    13279\n",
       "1.0     8173\n",
       "2.0     5005\n",
       "4.0     4174\n",
       "Name: Holding_Policy_Type, dtype: int64"
      ]
     },
     "execution_count": 12,
     "metadata": {},
     "output_type": "execute_result"
    }
   ],
   "source": [
    "traindf['Holding_Policy_Type'].value_counts() # we use mode for imputation"
   ]
  },
  {
   "cell_type": "code",
   "execution_count": null,
   "id": "018ca100",
   "metadata": {},
   "outputs": [],
   "source": []
  },
  {
   "cell_type": "markdown",
   "id": "50e4fb89",
   "metadata": {},
   "source": [
    "### 1.ID"
   ]
  },
  {
   "cell_type": "code",
   "execution_count": 13,
   "id": "2f76d0ba",
   "metadata": {},
   "outputs": [
    {
     "data": {
      "text/plain": [
       "50882"
      ]
     },
     "execution_count": 13,
     "metadata": {},
     "output_type": "execute_result"
    }
   ],
   "source": [
    "traindf[\"ID\"].nunique() #ID columns contain all discrete value which won't impact on predictions"
   ]
  },
  {
   "cell_type": "markdown",
   "id": "7b513972",
   "metadata": {},
   "source": [
    "### 2.City_Code"
   ]
  },
  {
   "cell_type": "code",
   "execution_count": 14,
   "id": "2a4d3e5a",
   "metadata": {},
   "outputs": [
    {
     "data": {
      "text/plain": [
       "C1     8973\n",
       "C2     7747\n",
       "C3     4889\n",
       "C4     3671\n",
       "C9     2185\n",
       "C6     1950\n",
       "C7     1910\n",
       "C8     1806\n",
       "C10    1611\n",
       "C5     1364\n",
       "C15    1186\n",
       "C17    1159\n",
       "C11    1147\n",
       "C16    1135\n",
       "C13    1005\n",
       "C20     926\n",
       "C19     899\n",
       "C12     868\n",
       "C18     797\n",
       "C14     746\n",
       "C21     679\n",
       "C23     587\n",
       "C24     553\n",
       "C22     516\n",
       "C26     499\n",
       "C29     387\n",
       "C25     366\n",
       "C27     295\n",
       "C33     286\n",
       "C28     285\n",
       "C32     160\n",
       "C34     130\n",
       "C30      58\n",
       "C35      56\n",
       "C36      36\n",
       "C31      15\n",
       "Name: City_Code, dtype: int64"
      ]
     },
     "execution_count": 14,
     "metadata": {},
     "output_type": "execute_result"
    }
   ],
   "source": [
    "traindf[\"City_Code\"].value_counts() # Here we use ordinal encoding"
   ]
  },
  {
   "cell_type": "markdown",
   "id": "9b5b7e9f",
   "metadata": {},
   "source": [
    "#### City_Code vs Response"
   ]
  },
  {
   "cell_type": "code",
   "execution_count": 15,
   "id": "c17446a8",
   "metadata": {},
   "outputs": [
    {
     "data": {
      "text/plain": [
       "<AxesSubplot:xlabel='City_Code', ylabel='count'>"
      ]
     },
     "execution_count": 15,
     "metadata": {},
     "output_type": "execute_result"
    },
    {
     "data": {
      "image/png": "[encoded data removed]",
      "text/plain": [
       "<Figure size 2000x1000 with 1 Axes>"
      ]
     },
     "metadata": {},
     "output_type": "display_data"
    }
   ],
   "source": [
    "plt.figure(figsize=(20,10))\n",
    "sns.countplot(x='City_Code',hue='Response',data=traindf)"
   ]
  },
  {
   "cell_type": "markdown",
   "id": "2762dfc7",
   "metadata": {},
   "source": [
    ">Cites like c1,c2 consist high distribution .\n",
    "\n",
    ">In all of the cities, class(response) 0 is dominating ."
   ]
  },
  {
   "cell_type": "markdown",
   "id": "8b51255d",
   "metadata": {},
   "source": [
    "### 3.Region_Code "
   ]
  },
  {
   "cell_type": "code",
   "execution_count": 16,
   "id": "715669fc",
   "metadata": {},
   "outputs": [
    {
     "data": {
      "text/plain": [
       "1       96\n",
       "5       75\n",
       "4       73\n",
       "6       73\n",
       "2       73\n",
       "        ..\n",
       "6041     1\n",
       "5316     1\n",
       "5606     1\n",
       "5282     1\n",
       "5450     1\n",
       "Name: Region_Code, Length: 5316, dtype: int64"
      ]
     },
     "execution_count": 16,
     "metadata": {},
     "output_type": "execute_result"
    }
   ],
   "source": [
    "traindf[\"Region_Code\"].value_counts()"
   ]
  },
  {
   "cell_type": "markdown",
   "id": "7ba6c11f",
   "metadata": {},
   "source": [
    "### 4.Accomodation_Type"
   ]
  },
  {
   "cell_type": "code",
   "execution_count": 17,
   "id": "71c7cfd1",
   "metadata": {},
   "outputs": [
    {
     "data": {
      "text/plain": [
       "Owned     27951\n",
       "Rented    22931\n",
       "Name: Accomodation_Type, dtype: int64"
      ]
     },
     "execution_count": 17,
     "metadata": {},
     "output_type": "execute_result"
    }
   ],
   "source": [
    "traindf[\"Accomodation_Type\"].value_counts()"
   ]
  },
  {
   "cell_type": "code",
   "execution_count": 18,
   "id": "e25ed35c",
   "metadata": {},
   "outputs": [
    {
     "data": {
      "text/plain": [
       "<AxesSubplot:xlabel='Accomodation_Type', ylabel='count'>"
      ]
     },
     "execution_count": 18,
     "metadata": {},
     "output_type": "execute_result"
    },
    {
     "data": {
      "image/png": "[encoded data removed]",
      "text/plain": [
       "<Figure size 2000x1000 with 1 Axes>"
      ]
     },
     "metadata": {},
     "output_type": "display_data"
    }
   ],
   "source": [
    "plt.figure(figsize=(20,10))\n",
    "sns.countplot(x='Accomodation_Type',hue='Response',data=traindf)"
   ]
  },
  {
   "cell_type": "markdown",
   "id": "d5f71047",
   "metadata": {},
   "source": [
    "* Customers who owned house have more interest on new insurance as compared to customers have rented house."
   ]
  },
  {
   "cell_type": "markdown",
   "id": "33564900",
   "metadata": {},
   "source": [
    "### 5.Reco_Insurance_Type  "
   ]
  },
  {
   "cell_type": "code",
   "execution_count": 19,
   "id": "d61350da",
   "metadata": {},
   "outputs": [
    {
     "data": {
      "text/plain": [
       "Individual    40536\n",
       "Joint         10346\n",
       "Name: Reco_Insurance_Type, dtype: int64"
      ]
     },
     "execution_count": 19,
     "metadata": {},
     "output_type": "execute_result"
    }
   ],
   "source": [
    "traindf[\"Reco_Insurance_Type\"].value_counts()"
   ]
  },
  {
   "cell_type": "code",
   "execution_count": 20,
   "id": "f2d6f2b0",
   "metadata": {},
   "outputs": [
    {
     "data": {
      "text/plain": [
       "<AxesSubplot:xlabel='Reco_Insurance_Type', ylabel='count'>"
      ]
     },
     "execution_count": 20,
     "metadata": {},
     "output_type": "execute_result"
    },
    {
     "data": {
      "image/png": "[encoded data removed]",
      "text/plain": [
       "<Figure size 2000x1000 with 1 Axes>"
      ]
     },
     "metadata": {},
     "output_type": "display_data"
    }
   ],
   "source": [
    "plt.figure(figsize=(20,10))\n",
    "sns.countplot(x='Reco_Insurance_Type',hue='Response',data=traindf)"
   ]
  },
  {
   "cell_type": "markdown",
   "id": "ca0c55c1",
   "metadata": {},
   "source": [
    "* Most of customers interested on individual insurance"
   ]
  },
  {
   "cell_type": "markdown",
   "id": "8810a2f7",
   "metadata": {},
   "source": [
    "### 6.Upper_Age "
   ]
  },
  {
   "cell_type": "code",
   "execution_count": 21,
   "id": "e012d0a8",
   "metadata": {},
   "outputs": [
    {
     "data": {
      "text/plain": [
       "array([36, 75, 32, 52, 44, 28, 59, 21, 66, 20, 27, 34, 43, 55, 23, 18, 22,\n",
       "       25, 24, 40, 26, 56, 35, 63, 49, 64, 67, 42, 71, 57, 73, 31, 19, 48,\n",
       "       65, 54, 33, 30, 69, 68, 37, 29, 62, 58, 38, 39, 60, 41, 45, 51, 46,\n",
       "       70, 61, 74, 53, 72, 50, 47], dtype=int64)"
      ]
     },
     "execution_count": 21,
     "metadata": {},
     "output_type": "execute_result"
    }
   ],
   "source": [
    "traindf[\"Upper_Age\"].unique()"
   ]
  },
  {
   "cell_type": "code",
   "execution_count": 22,
   "id": "d78deaa2",
   "metadata": {},
   "outputs": [
    {
     "data": {
      "text/plain": [
       "<AxesSubplot:>"
      ]
     },
     "execution_count": 22,
     "metadata": {},
     "output_type": "execute_result"
    },
    {
     "data": {
      "image/png": "[encoded data removed]",
      "text/plain": [
       "<Figure size 640x480 with 1 Axes>"
      ]
     },
     "metadata": {},
     "output_type": "display_data"
    }
   ],
   "source": [
    "sns.boxplot(data=traindf[\"Upper_Age\"], orient= \"v\")"
   ]
  },
  {
   "cell_type": "code",
   "execution_count": 23,
   "id": "d0d3429a",
   "metadata": {},
   "outputs": [
    {
     "data": {
      "text/plain": [
       "<AxesSubplot:xlabel='Upper_Age', ylabel='Density'>"
      ]
     },
     "execution_count": 23,
     "metadata": {},
     "output_type": "execute_result"
    },
    {
     "data": {
      "image/png": "[encoded data removed]",
      "text/plain": [
       "<Figure size 1200x1000 with 1 Axes>"
      ]
     },
     "metadata": {},
     "output_type": "display_data"
    }
   ],
   "source": [
    "plt.figure(figsize=(12,10))\n",
    "sns.distplot(traindf['Upper_Age'])"
   ]
  },
  {
   "cell_type": "markdown",
   "id": "00e98cd3",
   "metadata": {},
   "source": [
    "### 7.Lower_Age"
   ]
  },
  {
   "cell_type": "code",
   "execution_count": 24,
   "id": "874c95ed",
   "metadata": {},
   "outputs": [
    {
     "name": "stdout",
     "output_type": "stream",
     "text": [
      "[36 22 32 48 44 52 28 73 43 26 21 47 66 20 27 34 55 23 18 25 24 56 35 63\n",
      " 64 67 75 42 71 68 31 19 65 54 33 74 30 69 29 62 58 39 60 57 41 40 45 37\n",
      " 51 59 49 38 46 70 61 53 16 72 50 17]\n"
     ]
    },
    {
     "data": {
      "text/plain": [
       "<AxesSubplot:xlabel='Lower_Age', ylabel='Density'>"
      ]
     },
     "execution_count": 24,
     "metadata": {},
     "output_type": "execute_result"
    },
    {
     "data": {
      "image/png": "[encoded data removed]",
      "text/plain": [
       "<Figure size 1500x1000 with 1 Axes>"
      ]
     },
     "metadata": {},
     "output_type": "display_data"
    }
   ],
   "source": [
    "print(traindf[\"Lower_Age\"].unique())\n",
    "plt.figure(figsize=(15,10))\n",
    "sns.distplot(traindf['Lower_Age'], label='Train data')"
   ]
  },
  {
   "cell_type": "code",
   "execution_count": 25,
   "id": "29be9240",
   "metadata": {},
   "outputs": [
    {
     "data": {
      "text/plain": [
       "<AxesSubplot:>"
      ]
     },
     "execution_count": 25,
     "metadata": {},
     "output_type": "execute_result"
    },
    {
     "data": {
      "image/png": "[encoded data removed]",
      "text/plain": [
       "<Figure size 640x480 with 1 Axes>"
      ]
     },
     "metadata": {},
     "output_type": "display_data"
    }
   ],
   "source": [
    "sns.boxplot(data=traindf[\"Lower_Age\"], orient= \"v\")"
   ]
  },
  {
   "cell_type": "markdown",
   "id": "6cb85730",
   "metadata": {},
   "source": [
    "### 8.Is_spouse"
   ]
  },
  {
   "cell_type": "code",
   "execution_count": 26,
   "id": "8d6e1fac",
   "metadata": {},
   "outputs": [
    {
     "data": {
      "text/plain": [
       "No     42460\n",
       "Yes     8422\n",
       "Name: Is_Spouse, dtype: int64"
      ]
     },
     "execution_count": 26,
     "metadata": {},
     "output_type": "execute_result"
    }
   ],
   "source": [
    "traindf[\"Is_Spouse\"].value_counts()"
   ]
  },
  {
   "cell_type": "code",
   "execution_count": 27,
   "id": "7ab10d2c",
   "metadata": {},
   "outputs": [
    {
     "data": {
      "text/plain": [
       "<AxesSubplot:xlabel='Is_Spouse', ylabel='count'>"
      ]
     },
     "execution_count": 27,
     "metadata": {},
     "output_type": "execute_result"
    },
    {
     "data": {
      "image/png": "[encoded data removed]",
      "text/plain": [
       "<Figure size 2000x1000 with 1 Axes>"
      ]
     },
     "metadata": {},
     "output_type": "display_data"
    }
   ],
   "source": [
    "plt.figure(figsize=(20,10))\n",
    "sns.countplot(x='Is_Spouse',hue='Response',data=traindf)"
   ]
  },
  {
   "cell_type": "markdown",
   "id": "b741f0a2",
   "metadata": {},
   "source": [
    "* Customers who married have lesser interest on new insurance"
   ]
  },
  {
   "cell_type": "markdown",
   "id": "e7c56350",
   "metadata": {},
   "source": [
    "### 9.Health Indicator "
   ]
  },
  {
   "cell_type": "code",
   "execution_count": 28,
   "id": "b78edcb4",
   "metadata": {},
   "outputs": [
    {
     "data": {
      "text/plain": [
       "X1    13010\n",
       "X2    10332\n",
       "X3     6762\n",
       "X4     5743\n",
       "X5     1727\n",
       "X6     1280\n",
       "X7      196\n",
       "X8       78\n",
       "X9       63\n",
       "Name: Health Indicator, dtype: int64"
      ]
     },
     "execution_count": 28,
     "metadata": {},
     "output_type": "execute_result"
    }
   ],
   "source": [
    "traindf[\"Health Indicator\"].value_counts() # Encoding we use here"
   ]
  },
  {
   "cell_type": "code",
   "execution_count": 29,
   "id": "90622bcb",
   "metadata": {},
   "outputs": [
    {
     "data": {
      "text/plain": [
       "<AxesSubplot:xlabel='Health Indicator', ylabel='count'>"
      ]
     },
     "execution_count": 29,
     "metadata": {},
     "output_type": "execute_result"
    },
    {
     "data": {
      "image/png": "[encoded data removed]",
      "text/plain": [
       "<Figure size 2000x1000 with 1 Axes>"
      ]
     },
     "metadata": {},
     "output_type": "display_data"
    }
   ],
   "source": [
    "plt.figure(figsize=(20,10))\n",
    "sns.countplot(x='Health Indicator',hue='Response',data=traindf)"
   ]
  },
  {
   "cell_type": "markdown",
   "id": "33b5293d",
   "metadata": {},
   "source": [
    "### 10. Holding_Policy_Duration"
   ]
  },
  {
   "cell_type": "code",
   "execution_count": 30,
   "id": "617b8d44",
   "metadata": {},
   "outputs": [
    {
     "data": {
      "text/plain": [
       "1.0     4499\n",
       "14+     4335\n",
       "2.0     4260\n",
       "3.0     3586\n",
       "4.0     2771\n",
       "5.0     2362\n",
       "6.0     1894\n",
       "7.0     1645\n",
       "8.0     1316\n",
       "9.0     1114\n",
       "10.0     813\n",
       "11.0     546\n",
       "12.0     513\n",
       "13.0     511\n",
       "14.0     466\n",
       "Name: Holding_Policy_Duration, dtype: int64"
      ]
     },
     "execution_count": 30,
     "metadata": {},
     "output_type": "execute_result"
    }
   ],
   "source": [
    "traindf['Holding_Policy_Duration'].value_counts()"
   ]
  },
  {
   "cell_type": "code",
   "execution_count": 31,
   "id": "e0130e40",
   "metadata": {},
   "outputs": [
    {
     "data": {
      "text/plain": [
       "<AxesSubplot:xlabel='Holding_Policy_Duration', ylabel='count'>"
      ]
     },
     "execution_count": 31,
     "metadata": {},
     "output_type": "execute_result"
    },
    {
     "data": {
      "image/png": "[encoded data removed]",
      "text/plain": [
       "<Figure size 2000x1000 with 1 Axes>"
      ]
     },
     "metadata": {},
     "output_type": "display_data"
    }
   ],
   "source": [
    "plt.figure(figsize=(20,10))\n",
    "sns.countplot(x='Holding_Policy_Duration',hue='Response',data=traindf)"
   ]
  },
  {
   "cell_type": "markdown",
   "id": "eec4928e",
   "metadata": {},
   "source": [
    "### 11.  Holding_Policy_Type "
   ]
  },
  {
   "cell_type": "code",
   "execution_count": 32,
   "id": "960bea22",
   "metadata": {},
   "outputs": [
    {
     "data": {
      "text/plain": [
       "<AxesSubplot:xlabel='Holding_Policy_Type', ylabel='count'>"
      ]
     },
     "execution_count": 32,
     "metadata": {},
     "output_type": "execute_result"
    },
    {
     "data": {
      "image/png": "[encoded data removed]",
      "text/plain": [
       "<Figure size 2000x1000 with 1 Axes>"
      ]
     },
     "metadata": {},
     "output_type": "display_data"
    }
   ],
   "source": [
    "plt.figure(figsize=(20,10))\n",
    "sns.countplot(x='Holding_Policy_Type',hue='Response',data=traindf)"
   ]
  },
  {
   "cell_type": "markdown",
   "id": "8740f319",
   "metadata": {},
   "source": [
    "### 12.Reco_Policy_Cat    "
   ]
  },
  {
   "cell_type": "code",
   "execution_count": 33,
   "id": "494cd9a3",
   "metadata": {},
   "outputs": [
    {
     "data": {
      "text/plain": [
       "22    6602\n",
       "18    5553\n",
       "21    5027\n",
       "16    4084\n",
       "17    3756\n",
       "19    3708\n",
       "20    3177\n",
       "12    2168\n",
       "1     1967\n",
       "2     1917\n",
       "14    1742\n",
       "13    1684\n",
       "15    1615\n",
       "3     1059\n",
       "4     1015\n",
       "5     1007\n",
       "6      851\n",
       "7      834\n",
       "9      789\n",
       "11     781\n",
       "8      776\n",
       "10     770\n",
       "Name: Reco_Policy_Cat, dtype: int64"
      ]
     },
     "execution_count": 33,
     "metadata": {},
     "output_type": "execute_result"
    }
   ],
   "source": [
    "traindf['Reco_Policy_Cat'].value_counts()"
   ]
  },
  {
   "cell_type": "code",
   "execution_count": 34,
   "id": "2f1e16ee",
   "metadata": {},
   "outputs": [
    {
     "data": {
      "text/plain": [
       "<AxesSubplot:>"
      ]
     },
     "execution_count": 34,
     "metadata": {},
     "output_type": "execute_result"
    },
    {
     "data": {
      "image/png": "[encoded data removed]",
      "text/plain": [
       "<Figure size 640x480 with 1 Axes>"
      ]
     },
     "metadata": {},
     "output_type": "display_data"
    }
   ],
   "source": [
    "sns.boxplot(data=traindf[\"Reco_Policy_Cat\"])"
   ]
  },
  {
   "cell_type": "markdown",
   "id": "36bf2dd8",
   "metadata": {},
   "source": [
    "### 13.Reco_Policy_Premium"
   ]
  },
  {
   "cell_type": "code",
   "execution_count": 35,
   "id": "a8a8ba92",
   "metadata": {},
   "outputs": [
    {
     "data": {
      "text/plain": [
       "10080.0    61\n",
       "11880.0    59\n",
       "12060.0    58\n",
       "9296.0     56\n",
       "11520.0    54\n",
       "           ..\n",
       "32886.0     1\n",
       "33804.0     1\n",
       "18072.0     1\n",
       "20566.0     1\n",
       "11374.0     1\n",
       "Name: Reco_Policy_Premium, Length: 6977, dtype: int64"
      ]
     },
     "execution_count": 35,
     "metadata": {},
     "output_type": "execute_result"
    }
   ],
   "source": [
    "traindf[\"Reco_Policy_Premium\"].value_counts()"
   ]
  },
  {
   "cell_type": "code",
   "execution_count": 36,
   "id": "529b9532",
   "metadata": {},
   "outputs": [
    {
     "data": {
      "text/plain": [
       "<AxesSubplot:>"
      ]
     },
     "execution_count": 36,
     "metadata": {},
     "output_type": "execute_result"
    },
    {
     "data": {
      "image/png": "[encoded data removed]",
      "text/plain": [
       "<Figure size 640x480 with 1 Axes>"
      ]
     },
     "metadata": {},
     "output_type": "display_data"
    }
   ],
   "source": [
    "sns.boxplot(data= traindf[\"Reco_Policy_Premium\"]) # Outliers are present"
   ]
  },
  {
   "cell_type": "markdown",
   "id": "dfd58ca3",
   "metadata": {},
   "source": [
    "### Observations After EDA"
   ]
  },
  {
   "cell_type": "markdown",
   "id": "e38e997b",
   "metadata": {},
   "source": [
    "Observations After EDA\n",
    "The dataset consists of 13 features.\n",
    "\n",
    "It is a binary classification problem.\n",
    "\n",
    "The dataset is imbalanced.\n",
    "\n",
    "Both train and test dataset contains a large number of missing values , so they should be imputed in an appropriate way.\n",
    "\n",
    "Most of the features are categorical."
   ]
  },
  {
   "cell_type": "markdown",
   "id": "b6ea15d3",
   "metadata": {},
   "source": [
    "# 4.Feature Engineering"
   ]
  },
  {
   "cell_type": "markdown",
   "id": "639e0803",
   "metadata": {},
   "source": [
    "### 1.Handling missing values"
   ]
  },
  {
   "cell_type": "markdown",
   "id": "8092346f",
   "metadata": {},
   "source": [
    "#### Imputation - Health Indicator"
   ]
  },
  {
   "cell_type": "code",
   "execution_count": 37,
   "id": "7815935f",
   "metadata": {},
   "outputs": [
    {
     "data": {
      "text/plain": [
       "0    X1\n",
       "Name: Health Indicator, dtype: object"
      ]
     },
     "execution_count": 37,
     "metadata": {},
     "output_type": "execute_result"
    }
   ],
   "source": [
    "traindf[\"Health Indicator\"].mode()"
   ]
  },
  {
   "cell_type": "code",
   "execution_count": 38,
   "id": "b8972e2d",
   "metadata": {},
   "outputs": [],
   "source": [
    "traindf[\"Health Indicator\"].fillna('X1',inplace = True)\n",
    "testdf[\"Health Indicator\"].fillna('X1',inplace = True)\n",
    "# Replace by most frequent value"
   ]
  },
  {
   "cell_type": "code",
   "execution_count": 39,
   "id": "800be370",
   "metadata": {},
   "outputs": [
    {
     "data": {
      "text/plain": [
       "0"
      ]
     },
     "execution_count": 39,
     "metadata": {},
     "output_type": "execute_result"
    }
   ],
   "source": [
    "traindf[\"Health Indicator\"].isnull().sum()"
   ]
  },
  {
   "cell_type": "markdown",
   "id": "066d6951",
   "metadata": {},
   "source": [
    "#### Imputatation Holding_Policy_Duration"
   ]
  },
  {
   "cell_type": "code",
   "execution_count": 40,
   "id": "ccfef020",
   "metadata": {},
   "outputs": [
    {
     "data": {
      "text/plain": [
       "0    1.0\n",
       "Name: Holding_Policy_Duration, dtype: object"
      ]
     },
     "execution_count": 40,
     "metadata": {},
     "output_type": "execute_result"
    }
   ],
   "source": [
    "traindf['Holding_Policy_Duration'].mode()"
   ]
  },
  {
   "cell_type": "code",
   "execution_count": 41,
   "id": "dac77c72",
   "metadata": {},
   "outputs": [],
   "source": [
    "traindf['Holding_Policy_Duration'].fillna(1,inplace=True)\n",
    "testdf['Holding_Policy_Duration'].fillna(1,inplace=True)"
   ]
  },
  {
   "cell_type": "code",
   "execution_count": 42,
   "id": "dbc2e1b5",
   "metadata": {},
   "outputs": [
    {
     "data": {
      "text/plain": [
       "0"
      ]
     },
     "execution_count": 42,
     "metadata": {},
     "output_type": "execute_result"
    }
   ],
   "source": [
    "traindf['Holding_Policy_Duration'].isnull().sum()"
   ]
  },
  {
   "cell_type": "markdown",
   "id": "79336df8",
   "metadata": {},
   "source": [
    "#### Imputation - Holding_Policy_Type"
   ]
  },
  {
   "cell_type": "code",
   "execution_count": 43,
   "id": "e9f39ac4",
   "metadata": {},
   "outputs": [
    {
     "data": {
      "text/plain": [
       "0    3.0\n",
       "Name: Holding_Policy_Type, dtype: float64"
      ]
     },
     "execution_count": 43,
     "metadata": {},
     "output_type": "execute_result"
    }
   ],
   "source": [
    "traindf['Holding_Policy_Type'].mode()"
   ]
  },
  {
   "cell_type": "code",
   "execution_count": 44,
   "id": "7755d9fa",
   "metadata": {},
   "outputs": [],
   "source": [
    "traindf['Holding_Policy_Type'].fillna(3.0, inplace=True)\n",
    "testdf['Holding_Policy_Type'].fillna(3.0, inplace=True)"
   ]
  },
  {
   "cell_type": "code",
   "execution_count": 45,
   "id": "f19ab20c",
   "metadata": {},
   "outputs": [
    {
     "data": {
      "text/plain": [
       "0"
      ]
     },
     "execution_count": 45,
     "metadata": {},
     "output_type": "execute_result"
    }
   ],
   "source": [
    "traindf['Holding_Policy_Type'].isna().sum()"
   ]
  },
  {
   "cell_type": "markdown",
   "id": "8c22a8f3",
   "metadata": {},
   "source": [
    "Creating a new feature Long_term_customer from holding policy duration"
   ]
  },
  {
   "cell_type": "code",
   "execution_count": 46,
   "id": "892a518c",
   "metadata": {},
   "outputs": [],
   "source": [
    "traindf['Long_Term_Cust'] = traindf['Holding_Policy_Duration'].apply(lambda x: 'Yes' if x == '14+' else 'No')\n",
    "testdf['Long_Term_Cust'] = testdf['Holding_Policy_Duration'].apply(lambda x: 'Yes' if x == '14+' else 'No')\n",
    "\n",
    "\n",
    "#Replace categorical to numerical\n",
    "traindf['Holding_Policy_Duration'] = traindf['Holding_Policy_Duration'].replace('14+',15).astype(float).astype(int)\n",
    "testdf['Holding_Policy_Duration'] = testdf['Holding_Policy_Duration'].replace('14+',15).astype(float).astype(int)"
   ]
  },
  {
   "cell_type": "markdown",
   "id": "4100cece",
   "metadata": {},
   "source": [
    "#### Renaming Features"
   ]
  },
  {
   "cell_type": "code",
   "execution_count": 47,
   "id": "afe2d1a5",
   "metadata": {},
   "outputs": [],
   "source": [
    "traindf.rename(columns={'Is_Spouse':'Married','Health Indicator':'Health_Indicator'},inplace = True)\n",
    "testdf.rename(columns={'Is_Spouse':'Married','Health Indicator':'Health_Indicator'},inplace = True)"
   ]
  },
  {
   "cell_type": "markdown",
   "id": "f8d4dc20",
   "metadata": {},
   "source": [
    "Typically, insurance products are priced and underwritten based on the age of the applicant. This is especially the case in most health insurance pricing. To reflect this and retain data, an average age feature will be created and the original two features will be dropped."
   ]
  },
  {
   "cell_type": "code",
   "execution_count": 48,
   "id": "d82e44ef",
   "metadata": {},
   "outputs": [],
   "source": [
    "traindf['Avg_Age'] = (traindf['Upper_Age'] + traindf['Lower_Age']) / 2\n",
    "testdf['Avg_Age']  = (testdf['Upper_Age'] + testdf['Lower_Age']) / 2"
   ]
  },
  {
   "cell_type": "markdown",
   "id": "fd0f4a11",
   "metadata": {},
   "source": [
    "The unique 'ID' and 'Region Code' columns will be dropped in order to simplify the data. 'Region Code' consists of far too many categorical values which would need to be one hot encoded. The feature is dropped as the data still retains the 'City Code' feature to capture some level of geographical distinction. In addition, the upper and lower age features will be dropped being represented by average age."
   ]
  },
  {
   "cell_type": "code",
   "execution_count": 49,
   "id": "736e198c",
   "metadata": {},
   "outputs": [],
   "source": [
    "traindf.drop(['ID','Region_Code','Upper_Age','Lower_Age'],axis=1,inplace=True)\n",
    "testdf2 = testdf.copy()\n",
    "testdf.drop(['ID','Region_Code','Upper_Age','Lower_Age'],axis=1,inplace=True)"
   ]
  },
  {
   "cell_type": "markdown",
   "id": "f7e45231",
   "metadata": {},
   "source": [
    "### Encoding"
   ]
  },
  {
   "cell_type": "markdown",
   "id": "ebdcdae3",
   "metadata": {},
   "source": [
    "Features 'Accommodation Type', 'Reco Insurance Type', 'Is Spouse' will be converted to binary (0 and 1).\n",
    "\n"
   ]
  },
  {
   "cell_type": "code",
   "execution_count": 50,
   "id": "3ef3c0cd",
   "metadata": {},
   "outputs": [],
   "source": [
    "vals = {'Rented':0,'Owned':1,'Individual':0,'Joint':1,'No':0,'Yes':1}\n",
    "cols = ['Accomodation_Type','Reco_Insurance_Type','Married','Long_Term_Cust']\n",
    "\n",
    "for col in cols:\n",
    "    traindf[col] = traindf[col].replace(vals)\n",
    "    testdf[col] = testdf[col].replace(vals)"
   ]
  },
  {
   "cell_type": "code",
   "execution_count": 51,
   "id": "8e85f0dc",
   "metadata": {},
   "outputs": [
    {
     "data": {
      "text/html": [
       "<div>\n",
       "<style scoped>\n",
       "    .dataframe tbody tr th:only-of-type {\n",
       "        vertical-align: middle;\n",
       "    }\n",
       "\n",
       "    .dataframe tbody tr th {\n",
       "        vertical-align: top;\n",
       "    }\n",
       "\n",
       "    .dataframe thead th {\n",
       "        text-align: right;\n",
       "    }\n",
       "</style>\n",
       "<table border=\"1\" class=\"dataframe\">\n",
       "  <thead>\n",
       "    <tr style=\"text-align: right;\">\n",
       "      <th></th>\n",
       "      <th>City_Code</th>\n",
       "      <th>Accomodation_Type</th>\n",
       "      <th>Reco_Insurance_Type</th>\n",
       "      <th>Married</th>\n",
       "      <th>Health_Indicator</th>\n",
       "      <th>Holding_Policy_Duration</th>\n",
       "      <th>Holding_Policy_Type</th>\n",
       "      <th>Reco_Policy_Cat</th>\n",
       "      <th>Reco_Policy_Premium</th>\n",
       "      <th>Response</th>\n",
       "      <th>Long_Term_Cust</th>\n",
       "      <th>Avg_Age</th>\n",
       "    </tr>\n",
       "  </thead>\n",
       "  <tbody>\n",
       "    <tr>\n",
       "      <th>0</th>\n",
       "      <td>C3</td>\n",
       "      <td>0</td>\n",
       "      <td>0</td>\n",
       "      <td>0</td>\n",
       "      <td>X1</td>\n",
       "      <td>15</td>\n",
       "      <td>3.0</td>\n",
       "      <td>22</td>\n",
       "      <td>11628.0</td>\n",
       "      <td>0</td>\n",
       "      <td>1</td>\n",
       "      <td>36.0</td>\n",
       "    </tr>\n",
       "    <tr>\n",
       "      <th>1</th>\n",
       "      <td>C5</td>\n",
       "      <td>1</td>\n",
       "      <td>1</td>\n",
       "      <td>0</td>\n",
       "      <td>X2</td>\n",
       "      <td>1</td>\n",
       "      <td>3.0</td>\n",
       "      <td>22</td>\n",
       "      <td>30510.0</td>\n",
       "      <td>0</td>\n",
       "      <td>0</td>\n",
       "      <td>48.5</td>\n",
       "    </tr>\n",
       "    <tr>\n",
       "      <th>2</th>\n",
       "      <td>C5</td>\n",
       "      <td>1</td>\n",
       "      <td>0</td>\n",
       "      <td>0</td>\n",
       "      <td>X1</td>\n",
       "      <td>1</td>\n",
       "      <td>1.0</td>\n",
       "      <td>19</td>\n",
       "      <td>7450.0</td>\n",
       "      <td>1</td>\n",
       "      <td>0</td>\n",
       "      <td>32.0</td>\n",
       "    </tr>\n",
       "    <tr>\n",
       "      <th>3</th>\n",
       "      <td>C24</td>\n",
       "      <td>1</td>\n",
       "      <td>1</td>\n",
       "      <td>0</td>\n",
       "      <td>X1</td>\n",
       "      <td>15</td>\n",
       "      <td>3.0</td>\n",
       "      <td>19</td>\n",
       "      <td>17780.0</td>\n",
       "      <td>0</td>\n",
       "      <td>1</td>\n",
       "      <td>50.0</td>\n",
       "    </tr>\n",
       "    <tr>\n",
       "      <th>4</th>\n",
       "      <td>C8</td>\n",
       "      <td>0</td>\n",
       "      <td>0</td>\n",
       "      <td>0</td>\n",
       "      <td>X2</td>\n",
       "      <td>3</td>\n",
       "      <td>1.0</td>\n",
       "      <td>16</td>\n",
       "      <td>10404.0</td>\n",
       "      <td>0</td>\n",
       "      <td>0</td>\n",
       "      <td>44.0</td>\n",
       "    </tr>\n",
       "  </tbody>\n",
       "</table>\n",
       "</div>"
      ],
      "text/plain": [
       "  City_Code  Accomodation_Type  Reco_Insurance_Type  Married Health_Indicator  \\\n",
       "0        C3                  0                    0        0               X1   \n",
       "1        C5                  1                    1        0               X2   \n",
       "2        C5                  1                    0        0               X1   \n",
       "3       C24                  1                    1        0               X1   \n",
       "4        C8                  0                    0        0               X2   \n",
       "\n",
       "   Holding_Policy_Duration  Holding_Policy_Type  Reco_Policy_Cat  \\\n",
       "0                       15                  3.0               22   \n",
       "1                        1                  3.0               22   \n",
       "2                        1                  1.0               19   \n",
       "3                       15                  3.0               19   \n",
       "4                        3                  1.0               16   \n",
       "\n",
       "   Reco_Policy_Premium  Response  Long_Term_Cust  Avg_Age  \n",
       "0              11628.0         0               1     36.0  \n",
       "1              30510.0         0               0     48.5  \n",
       "2               7450.0         1               0     32.0  \n",
       "3              17780.0         0               1     50.0  \n",
       "4              10404.0         0               0     44.0  "
      ]
     },
     "execution_count": 51,
     "metadata": {},
     "output_type": "execute_result"
    }
   ],
   "source": [
    "traindf.head()"
   ]
  },
  {
   "cell_type": "markdown",
   "id": "8aef41a0",
   "metadata": {},
   "source": [
    "Features City_Code and Health_Indicator have sequence so these features will encoded with ordinal encoding"
   ]
  },
  {
   "cell_type": "code",
   "execution_count": 52,
   "id": "47e75b74",
   "metadata": {},
   "outputs": [
    {
     "data": {
      "text/plain": [
       "array(['X1', 'X2', 'X4', 'X3', 'X6', 'X5', 'X8', 'X7', 'X9'], dtype=object)"
      ]
     },
     "execution_count": 52,
     "metadata": {},
     "output_type": "execute_result"
    }
   ],
   "source": [
    "traindf[\"Health_Indicator\"].unique()"
   ]
  },
  {
   "cell_type": "code",
   "execution_count": 53,
   "id": "22f89af3",
   "metadata": {},
   "outputs": [],
   "source": [
    "cat1 = ['C3', 'C5', 'C24', 'C8', 'C9', 'C1', 'C15', 'C28', 'C27', 'C7',\n",
    "       'C20', 'C25', 'C4', 'C2', 'C34', 'C10', 'C17', 'C18', 'C16', 'C29',\n",
    "       'C33', 'C26', 'C19', 'C6', 'C12', 'C13', 'C11', 'C14', 'C22',\n",
    "       'C23', 'C21', 'C36', 'C32', 'C30', 'C35', 'C31'] \n",
    "cat2 = ['X1', 'X2', 'X4', 'X3', 'X6', 'X5', 'X8', 'X7', 'X9']\n",
    "for i in range(0,len(cat2)):\n",
    "    traindf[\"Health_Indicator\"] = traindf[\"Health_Indicator\"].replace(cat2[i],i) \n",
    "    testdf[\"Health_Indicator\"] = testdf[\"Health_Indicator\"].replace(cat2[i],i) \n",
    "for i in range(0,len(cat1)):\n",
    "    traindf[\"City_Code\"] = traindf[\"City_Code\"].replace(cat1[i],i) \n",
    "    testdf[\"City_Code\"] = testdf[\"City_Code\"].replace(cat1[i],i)    "
   ]
  },
  {
   "cell_type": "markdown",
   "id": "eb1094c3",
   "metadata": {},
   "source": [
    "### Checking Co-relation"
   ]
  },
  {
   "cell_type": "code",
   "execution_count": 54,
   "id": "1dccaf69",
   "metadata": {},
   "outputs": [
    {
     "data": {
      "text/plain": [
       "<AxesSubplot:>"
      ]
     },
     "execution_count": 54,
     "metadata": {},
     "output_type": "execute_result"
    },
    {
     "data": {
      "image/png": "[encoded data removed]",
      "text/plain": [
       "<Figure size 1200x1000 with 2 Axes>"
      ]
     },
     "metadata": {},
     "output_type": "display_data"
    }
   ],
   "source": [
    "corr = traindf.corr() # analyzing correlation\n",
    "fig, ax = plt.subplots(figsize=(12,10))\n",
    "sns.heatmap(corr, square=True, annot=True, cmap='YlGnBu')"
   ]
  },
  {
   "cell_type": "code",
   "execution_count": 55,
   "id": "0d918541",
   "metadata": {},
   "outputs": [
    {
     "name": "stdout",
     "output_type": "stream",
     "text": [
      "<class 'pandas.core.frame.DataFrame'>\n",
      "RangeIndex: 21805 entries, 0 to 21804\n",
      "Data columns (total 11 columns):\n",
      " #   Column                   Non-Null Count  Dtype  \n",
      "---  ------                   --------------  -----  \n",
      " 0   City_Code                21805 non-null  int64  \n",
      " 1   Accomodation_Type        21805 non-null  int64  \n",
      " 2   Reco_Insurance_Type      21805 non-null  int64  \n",
      " 3   Married                  21805 non-null  int64  \n",
      " 4   Health_Indicator         21805 non-null  int64  \n",
      " 5   Holding_Policy_Duration  21805 non-null  int32  \n",
      " 6   Holding_Policy_Type      21805 non-null  float64\n",
      " 7   Reco_Policy_Cat          21805 non-null  int64  \n",
      " 8   Reco_Policy_Premium      21805 non-null  float64\n",
      " 9   Long_Term_Cust           21805 non-null  int64  \n",
      " 10  Avg_Age                  21805 non-null  float64\n",
      "dtypes: float64(3), int32(1), int64(7)\n",
      "memory usage: 1.7 MB\n"
     ]
    }
   ],
   "source": [
    "testdf.info()"
   ]
  },
  {
   "cell_type": "code",
   "execution_count": 56,
   "id": "8e37746b",
   "metadata": {},
   "outputs": [
    {
     "data": {
      "text/plain": [
       "0    38673\n",
       "1    12209\n",
       "Name: Response, dtype: int64"
      ]
     },
     "execution_count": 56,
     "metadata": {},
     "output_type": "execute_result"
    }
   ],
   "source": [
    "x = traindf.drop(\"Response\",axis=1)\n",
    "y = traindf[\"Response\"]\n",
    "y.value_counts()"
   ]
  },
  {
   "cell_type": "markdown",
   "id": "63f5701a",
   "metadata": {},
   "source": [
    "* Since data in target column is unbalanced . Therefore , we use sampling technique to balance data i.e. SMOTE technique for oversampling"
   ]
  },
  {
   "cell_type": "code",
   "execution_count": 57,
   "id": "63386c0a",
   "metadata": {},
   "outputs": [
    {
     "data": {
      "text/plain": [
       "0    38673\n",
       "1    32872\n",
       "Name: Response, dtype: int64"
      ]
     },
     "execution_count": 57,
     "metadata": {},
     "output_type": "execute_result"
    }
   ],
   "source": [
    "smt = SMOTE(sampling_strategy=0.85,k_neighbors=5,random_state=45)\n",
    "x_sampled,y_sampled = smt.fit_resample(x,y)\n",
    "y_sampled.value_counts()"
   ]
  },
  {
   "cell_type": "markdown",
   "id": "3f1779e9",
   "metadata": {},
   "source": [
    "### Splitting of data"
   ]
  },
  {
   "cell_type": "code",
   "execution_count": 58,
   "id": "b60589b8",
   "metadata": {},
   "outputs": [],
   "source": [
    "x_train, x_test, y_train, y_test = train_test_split(x_sampled, y_sampled, test_size=0.33, random_state=42)"
   ]
  },
  {
   "cell_type": "markdown",
   "id": "f8ec5a29",
   "metadata": {},
   "source": [
    "# 4.Feature Selection"
   ]
  },
  {
   "cell_type": "markdown",
   "id": "107bf5a9",
   "metadata": {},
   "source": [
    "#### Principal Component Analysis"
   ]
  },
  {
   "cell_type": "code",
   "execution_count": 59,
   "id": "5308a908",
   "metadata": {},
   "outputs": [
    {
     "data": {
      "text/plain": [
       "['PC1', 'PC2', 'PC3', 'PC4', 'PC5', 'PC6', 'PC7', 'PC8', 'PC9', 'PC10', 'PC11']"
      ]
     },
     "execution_count": 59,
     "metadata": {},
     "output_type": "execute_result"
    }
   ],
   "source": [
    "# Preprocessing\n",
    "pc_name = [f\"PC{i}\" for i in range(1,x_train.shape[1]+1)]\n",
    "pc_name"
   ]
  },
  {
   "cell_type": "code",
   "execution_count": 60,
   "id": "b236af54",
   "metadata": {},
   "outputs": [
    {
     "data": {
      "text/html": [
       "<div>\n",
       "<style scoped>\n",
       "    .dataframe tbody tr th:only-of-type {\n",
       "        vertical-align: middle;\n",
       "    }\n",
       "\n",
       "    .dataframe tbody tr th {\n",
       "        vertical-align: top;\n",
       "    }\n",
       "\n",
       "    .dataframe thead th {\n",
       "        text-align: right;\n",
       "    }\n",
       "</style>\n",
       "<table border=\"1\" class=\"dataframe\">\n",
       "  <thead>\n",
       "    <tr style=\"text-align: right;\">\n",
       "      <th></th>\n",
       "      <th>PC1</th>\n",
       "      <th>PC2</th>\n",
       "      <th>PC3</th>\n",
       "      <th>PC4</th>\n",
       "      <th>PC5</th>\n",
       "      <th>PC6</th>\n",
       "      <th>PC7</th>\n",
       "      <th>PC8</th>\n",
       "      <th>PC9</th>\n",
       "      <th>PC10</th>\n",
       "      <th>PC11</th>\n",
       "    </tr>\n",
       "  </thead>\n",
       "  <tbody>\n",
       "    <tr>\n",
       "      <th>0</th>\n",
       "      <td>-1.106524</td>\n",
       "      <td>-0.204323</td>\n",
       "      <td>-0.190634</td>\n",
       "      <td>-0.790310</td>\n",
       "      <td>-0.531835</td>\n",
       "      <td>1.889811</td>\n",
       "      <td>0.143865</td>\n",
       "      <td>-1.328548</td>\n",
       "      <td>-0.215330</td>\n",
       "      <td>0.176231</td>\n",
       "      <td>-0.182442</td>\n",
       "    </tr>\n",
       "    <tr>\n",
       "      <th>1</th>\n",
       "      <td>-1.717914</td>\n",
       "      <td>-0.302046</td>\n",
       "      <td>0.418330</td>\n",
       "      <td>-0.193177</td>\n",
       "      <td>-0.040638</td>\n",
       "      <td>1.690928</td>\n",
       "      <td>-0.762130</td>\n",
       "      <td>-1.688572</td>\n",
       "      <td>-0.095400</td>\n",
       "      <td>0.157531</td>\n",
       "      <td>-0.121097</td>\n",
       "    </tr>\n",
       "    <tr>\n",
       "      <th>2</th>\n",
       "      <td>-0.405873</td>\n",
       "      <td>0.428139</td>\n",
       "      <td>-0.951589</td>\n",
       "      <td>-0.677290</td>\n",
       "      <td>-0.725004</td>\n",
       "      <td>0.365412</td>\n",
       "      <td>-0.003129</td>\n",
       "      <td>-1.061689</td>\n",
       "      <td>0.209330</td>\n",
       "      <td>-0.216915</td>\n",
       "      <td>0.196108</td>\n",
       "    </tr>\n",
       "    <tr>\n",
       "      <th>3</th>\n",
       "      <td>-1.827949</td>\n",
       "      <td>-0.414768</td>\n",
       "      <td>0.128758</td>\n",
       "      <td>-0.942551</td>\n",
       "      <td>1.777384</td>\n",
       "      <td>-1.994454</td>\n",
       "      <td>0.492619</td>\n",
       "      <td>0.141040</td>\n",
       "      <td>-0.108667</td>\n",
       "      <td>0.041186</td>\n",
       "      <td>-0.057939</td>\n",
       "    </tr>\n",
       "    <tr>\n",
       "      <th>4</th>\n",
       "      <td>-2.249468</td>\n",
       "      <td>-0.394923</td>\n",
       "      <td>0.558792</td>\n",
       "      <td>-0.921795</td>\n",
       "      <td>-0.091118</td>\n",
       "      <td>-0.192784</td>\n",
       "      <td>-0.075899</td>\n",
       "      <td>-0.118785</td>\n",
       "      <td>-0.052935</td>\n",
       "      <td>-0.156783</td>\n",
       "      <td>0.153337</td>\n",
       "    </tr>\n",
       "    <tr>\n",
       "      <th>...</th>\n",
       "      <td>...</td>\n",
       "      <td>...</td>\n",
       "      <td>...</td>\n",
       "      <td>...</td>\n",
       "      <td>...</td>\n",
       "      <td>...</td>\n",
       "      <td>...</td>\n",
       "      <td>...</td>\n",
       "      <td>...</td>\n",
       "      <td>...</td>\n",
       "      <td>...</td>\n",
       "    </tr>\n",
       "    <tr>\n",
       "      <th>47930</th>\n",
       "      <td>-1.150009</td>\n",
       "      <td>0.436939</td>\n",
       "      <td>0.142882</td>\n",
       "      <td>-1.173646</td>\n",
       "      <td>-0.459121</td>\n",
       "      <td>-1.143374</td>\n",
       "      <td>0.158058</td>\n",
       "      <td>0.250706</td>\n",
       "      <td>0.841185</td>\n",
       "      <td>-0.063825</td>\n",
       "      <td>0.022298</td>\n",
       "    </tr>\n",
       "    <tr>\n",
       "      <th>47931</th>\n",
       "      <td>-0.682361</td>\n",
       "      <td>-0.031468</td>\n",
       "      <td>-1.111659</td>\n",
       "      <td>-0.580199</td>\n",
       "      <td>-1.105137</td>\n",
       "      <td>-0.747725</td>\n",
       "      <td>0.112328</td>\n",
       "      <td>0.961857</td>\n",
       "      <td>-0.354295</td>\n",
       "      <td>-0.272681</td>\n",
       "      <td>0.168572</td>\n",
       "    </tr>\n",
       "    <tr>\n",
       "      <th>47932</th>\n",
       "      <td>-2.116756</td>\n",
       "      <td>-0.387975</td>\n",
       "      <td>0.395735</td>\n",
       "      <td>-0.845546</td>\n",
       "      <td>-0.109568</td>\n",
       "      <td>-0.512583</td>\n",
       "      <td>-0.141963</td>\n",
       "      <td>-0.048688</td>\n",
       "      <td>-0.080900</td>\n",
       "      <td>-0.086494</td>\n",
       "      <td>0.074514</td>\n",
       "    </tr>\n",
       "    <tr>\n",
       "      <th>47933</th>\n",
       "      <td>-1.725769</td>\n",
       "      <td>0.224568</td>\n",
       "      <td>0.990598</td>\n",
       "      <td>-0.186337</td>\n",
       "      <td>0.321545</td>\n",
       "      <td>-0.004582</td>\n",
       "      <td>-0.797929</td>\n",
       "      <td>0.159192</td>\n",
       "      <td>0.787159</td>\n",
       "      <td>-0.144995</td>\n",
       "      <td>0.134332</td>\n",
       "    </tr>\n",
       "    <tr>\n",
       "      <th>47934</th>\n",
       "      <td>-2.213611</td>\n",
       "      <td>-0.480769</td>\n",
       "      <td>1.093711</td>\n",
       "      <td>-0.550936</td>\n",
       "      <td>1.604944</td>\n",
       "      <td>0.661999</td>\n",
       "      <td>0.169599</td>\n",
       "      <td>0.145769</td>\n",
       "      <td>-0.020641</td>\n",
       "      <td>-0.101620</td>\n",
       "      <td>0.098294</td>\n",
       "    </tr>\n",
       "  </tbody>\n",
       "</table>\n",
       "<p>47935 rows × 11 columns</p>\n",
       "</div>"
      ],
      "text/plain": [
       "            PC1       PC2       PC3       PC4       PC5       PC6       PC7  \\\n",
       "0     -1.106524 -0.204323 -0.190634 -0.790310 -0.531835  1.889811  0.143865   \n",
       "1     -1.717914 -0.302046  0.418330 -0.193177 -0.040638  1.690928 -0.762130   \n",
       "2     -0.405873  0.428139 -0.951589 -0.677290 -0.725004  0.365412 -0.003129   \n",
       "3     -1.827949 -0.414768  0.128758 -0.942551  1.777384 -1.994454  0.492619   \n",
       "4     -2.249468 -0.394923  0.558792 -0.921795 -0.091118 -0.192784 -0.075899   \n",
       "...         ...       ...       ...       ...       ...       ...       ...   \n",
       "47930 -1.150009  0.436939  0.142882 -1.173646 -0.459121 -1.143374  0.158058   \n",
       "47931 -0.682361 -0.031468 -1.111659 -0.580199 -1.105137 -0.747725  0.112328   \n",
       "47932 -2.116756 -0.387975  0.395735 -0.845546 -0.109568 -0.512583 -0.141963   \n",
       "47933 -1.725769  0.224568  0.990598 -0.186337  0.321545 -0.004582 -0.797929   \n",
       "47934 -2.213611 -0.480769  1.093711 -0.550936  1.604944  0.661999  0.169599   \n",
       "\n",
       "            PC8       PC9      PC10      PC11  \n",
       "0     -1.328548 -0.215330  0.176231 -0.182442  \n",
       "1     -1.688572 -0.095400  0.157531 -0.121097  \n",
       "2     -1.061689  0.209330 -0.216915  0.196108  \n",
       "3      0.141040 -0.108667  0.041186 -0.057939  \n",
       "4     -0.118785 -0.052935 -0.156783  0.153337  \n",
       "...         ...       ...       ...       ...  \n",
       "47930  0.250706  0.841185 -0.063825  0.022298  \n",
       "47931  0.961857 -0.354295 -0.272681  0.168572  \n",
       "47932 -0.048688 -0.080900 -0.086494  0.074514  \n",
       "47933  0.159192  0.787159 -0.144995  0.134332  \n",
       "47934  0.145769 -0.020641 -0.101620  0.098294  \n",
       "\n",
       "[47935 rows x 11 columns]"
      ]
     },
     "execution_count": 60,
     "metadata": {},
     "output_type": "execute_result"
    }
   ],
   "source": [
    "std_scalar = StandardScaler()\n",
    "std_array = std_scalar.fit_transform(x_train)\n",
    "x_train_std = pd.DataFrame(std_array,columns=x_train.columns)\n",
    "# x_train_std\n",
    "pca = PCA(n_components=None)\n",
    "x_train_pca = pca.fit_transform(x_train_std)\n",
    "pc_name = [f\"PC{i}\" for i in range(1,x_train_pca.shape[1]+1)]\n",
    "x_train_pca = pd.DataFrame(x_train_pca,columns=pc_name)\n",
    "x_train_pca"
   ]
  },
  {
   "cell_type": "code",
   "execution_count": null,
   "id": "0b9fc1e1",
   "metadata": {},
   "outputs": [],
   "source": []
  },
  {
   "cell_type": "markdown",
   "id": "de45b453",
   "metadata": {},
   "source": [
    "# 5.Model Selection"
   ]
  },
  {
   "cell_type": "markdown",
   "id": "3f2930db",
   "metadata": {},
   "source": [
    "## Logistic Regression "
   ]
  },
  {
   "cell_type": "code",
   "execution_count": 61,
   "id": "97acf337",
   "metadata": {},
   "outputs": [],
   "source": [
    "lr_model = LogisticRegression()"
   ]
  },
  {
   "cell_type": "code",
   "execution_count": 62,
   "id": "922037bf",
   "metadata": {},
   "outputs": [
    {
     "data": {
      "text/html": [
       "<style>#sk-container-id-1 {color: black;background-color: white;}#sk-container-id-1 pre{padding: 0;}#sk-container-id-1 div.sk-toggleable {background-color: white;}#sk-container-id-1 label.sk-toggleable__label {cursor: pointer;display: block;width: 100%;margin-bottom: 0;padding: 0.3em;box-sizing: border-box;text-align: center;}#sk-container-id-1 label.sk-toggleable__label-arrow:before {content: \"▸\";float: left;margin-right: 0.25em;color: #696969;}#sk-container-id-1 label.sk-toggleable__label-arrow:hover:before {color: black;}#sk-container-id-1 div.sk-estimator:hover label.sk-toggleable__label-arrow:before {color: black;}#sk-container-id-1 div.sk-toggleable__content {max-height: 0;max-width: 0;overflow: hidden;text-align: left;background-color: #f0f8ff;}#sk-container-id-1 div.sk-toggleable__content pre {margin: 0.2em;color: black;border-radius: 0.25em;background-color: #f0f8ff;}#sk-container-id-1 input.sk-toggleable__control:checked~div.sk-toggleable__content {max-height: 200px;max-width: 100%;overflow: auto;}#sk-container-id-1 input.sk-toggleable__control:checked~label.sk-toggleable__label-arrow:before {content: \"▾\";}#sk-container-id-1 div.sk-estimator input.sk-toggleable__control:checked~label.sk-toggleable__label {background-color: #d4ebff;}#sk-container-id-1 div.sk-label input.sk-toggleable__control:checked~label.sk-toggleable__label {background-color: #d4ebff;}#sk-container-id-1 input.sk-hidden--visually {border: 0;clip: rect(1px 1px 1px 1px);clip: rect(1px, 1px, 1px, 1px);height: 1px;margin: -1px;overflow: hidden;padding: 0;position: absolute;width: 1px;}#sk-container-id-1 div.sk-estimator {font-family: monospace;background-color: #f0f8ff;border: 1px dotted black;border-radius: 0.25em;box-sizing: border-box;margin-bottom: 0.5em;}#sk-container-id-1 div.sk-estimator:hover {background-color: #d4ebff;}#sk-container-id-1 div.sk-parallel-item::after {content: \"\";width: 100%;border-bottom: 1px solid gray;flex-grow: 1;}#sk-container-id-1 div.sk-label:hover label.sk-toggleable__label {background-color: #d4ebff;}#sk-container-id-1 div.sk-serial::before {content: \"\";position: absolute;border-left: 1px solid gray;box-sizing: border-box;top: 0;bottom: 0;left: 50%;z-index: 0;}#sk-container-id-1 div.sk-serial {display: flex;flex-direction: column;align-items: center;background-color: white;padding-right: 0.2em;padding-left: 0.2em;position: relative;}#sk-container-id-1 div.sk-item {position: relative;z-index: 1;}#sk-container-id-1 div.sk-parallel {display: flex;align-items: stretch;justify-content: center;background-color: white;position: relative;}#sk-container-id-1 div.sk-item::before, #sk-container-id-1 div.sk-parallel-item::before {content: \"\";position: absolute;border-left: 1px solid gray;box-sizing: border-box;top: 0;bottom: 0;left: 50%;z-index: -1;}#sk-container-id-1 div.sk-parallel-item {display: flex;flex-direction: column;z-index: 1;position: relative;background-color: white;}#sk-container-id-1 div.sk-parallel-item:first-child::after {align-self: flex-end;width: 50%;}#sk-container-id-1 div.sk-parallel-item:last-child::after {align-self: flex-start;width: 50%;}#sk-container-id-1 div.sk-parallel-item:only-child::after {width: 0;}#sk-container-id-1 div.sk-dashed-wrapped {border: 1px dashed gray;margin: 0 0.4em 0.5em 0.4em;box-sizing: border-box;padding-bottom: 0.4em;background-color: white;}#sk-container-id-1 div.sk-label label {font-family: monospace;font-weight: bold;display: inline-block;line-height: 1.2em;}#sk-container-id-1 div.sk-label-container {text-align: center;}#sk-container-id-1 div.sk-container {/* jupyter's `normalize.less` sets `[hidden] { display: none; }` but bootstrap.min.css set `[hidden] { display: none !important; }` so we also need the `!important` here to be able to override the default hidden behavior on the sphinx rendered scikit-learn.org. See: https://github.com/scikit-learn/scikit-learn/issues/21755 */display: inline-block !important;position: relative;}#sk-container-id-1 div.sk-text-repr-fallback {display: none;}</style><div id=\"sk-container-id-1\" class=\"sk-top-container\"><div class=\"sk-text-repr-fallback\"><pre>LogisticRegression()</pre><b>In a Jupyter environment, please rerun this cell to show the HTML representation or trust the notebook. <br />On GitHub, the HTML representation is unable to render, please try loading this page with nbviewer.org.</b></div><div class=\"sk-container\" hidden><div class=\"sk-item\"><div class=\"sk-estimator sk-toggleable\"><input class=\"sk-toggleable__control sk-hidden--visually\" id=\"sk-estimator-id-1\" type=\"checkbox\" checked><label for=\"sk-estimator-id-1\" class=\"sk-toggleable__label sk-toggleable__label-arrow\">LogisticRegression</label><div class=\"sk-toggleable__content\"><pre>LogisticRegression()</pre></div></div></div></div></div>"
      ],
      "text/plain": [
       "LogisticRegression()"
      ]
     },
     "execution_count": 62,
     "metadata": {},
     "output_type": "execute_result"
    }
   ],
   "source": [
    "lr_model.fit(x_train,y_train)"
   ]
  },
  {
   "cell_type": "code",
   "execution_count": 63,
   "id": "3dd6e632",
   "metadata": {},
   "outputs": [
    {
     "name": "stdout",
     "output_type": "stream",
     "text": [
      "confusion matrix\n",
      " [[16906  9026]\n",
      " [11824 10179]]\n",
      "********************\n",
      "accuracy 0.565035986231355\n",
      "********************\n",
      "classificatio report\n",
      "               precision    recall  f1-score   support\n",
      "\n",
      "           0       0.59      0.65      0.62     25932\n",
      "           1       0.53      0.46      0.49     22003\n",
      "\n",
      "    accuracy                           0.57     47935\n",
      "   macro avg       0.56      0.56      0.56     47935\n",
      "weighted avg       0.56      0.57      0.56     47935\n",
      "\n"
     ]
    }
   ],
   "source": [
    "# Training\n",
    "y_pred_train = lr_model.predict(x_train)\n",
    "cnf_matrix = confusion_matrix(y_train,y_pred_train)\n",
    "print(\"confusion matrix\\n\",cnf_matrix)\n",
    "print(\"*\"*20)\n",
    "accuracy = accuracy_score(y_train,y_pred_train)\n",
    "print(\"accuracy\",accuracy)\n",
    "print(\"*\"*20)\n",
    "clf_report = classification_report(y_train,y_pred_train)\n",
    "print(\"classificatio report\\n\",clf_report)"
   ]
  },
  {
   "cell_type": "code",
   "execution_count": 64,
   "id": "5d42dd48",
   "metadata": {},
   "outputs": [
    {
     "name": "stdout",
     "output_type": "stream",
     "text": [
      "confusion matrix\n",
      " [[8223 4518]\n",
      " [5921 4948]]\n",
      "********************\n",
      "accuracy 0.5578568403218975\n",
      "********************\n",
      "classificatio report\n",
      "               precision    recall  f1-score   support\n",
      "\n",
      "           0       0.58      0.65      0.61     12741\n",
      "           1       0.52      0.46      0.49     10869\n",
      "\n",
      "    accuracy                           0.56     23610\n",
      "   macro avg       0.55      0.55      0.55     23610\n",
      "weighted avg       0.55      0.56      0.55     23610\n",
      "\n"
     ]
    }
   ],
   "source": [
    "# Testing\n",
    "y_pred_test = lr_model.predict(x_test)\n",
    "cnf_matrix = confusion_matrix(y_test,y_pred_test)\n",
    "print(\"confusion matrix\\n\",cnf_matrix)\n",
    "print(\"*\"*20)\n",
    "accuracy = accuracy_score(y_test,y_pred_test)\n",
    "print(\"accuracy\",accuracy)\n",
    "print(\"*\"*20)\n",
    "clf_report = classification_report(y_test,y_pred_test)\n",
    "print(\"classificatio report\\n\",clf_report)"
   ]
  },
  {
   "cell_type": "markdown",
   "id": "b22acf78",
   "metadata": {},
   "source": [
    "## Decision Tree"
   ]
  },
  {
   "cell_type": "code",
   "execution_count": 65,
   "id": "4b6b411a",
   "metadata": {},
   "outputs": [
    {
     "data": {
      "text/html": [
       "<style>#sk-container-id-2 {color: black;background-color: white;}#sk-container-id-2 pre{padding: 0;}#sk-container-id-2 div.sk-toggleable {background-color: white;}#sk-container-id-2 label.sk-toggleable__label {cursor: pointer;display: block;width: 100%;margin-bottom: 0;padding: 0.3em;box-sizing: border-box;text-align: center;}#sk-container-id-2 label.sk-toggleable__label-arrow:before {content: \"▸\";float: left;margin-right: 0.25em;color: #696969;}#sk-container-id-2 label.sk-toggleable__label-arrow:hover:before {color: black;}#sk-container-id-2 div.sk-estimator:hover label.sk-toggleable__label-arrow:before {color: black;}#sk-container-id-2 div.sk-toggleable__content {max-height: 0;max-width: 0;overflow: hidden;text-align: left;background-color: #f0f8ff;}#sk-container-id-2 div.sk-toggleable__content pre {margin: 0.2em;color: black;border-radius: 0.25em;background-color: #f0f8ff;}#sk-container-id-2 input.sk-toggleable__control:checked~div.sk-toggleable__content {max-height: 200px;max-width: 100%;overflow: auto;}#sk-container-id-2 input.sk-toggleable__control:checked~label.sk-toggleable__label-arrow:before {content: \"▾\";}#sk-container-id-2 div.sk-estimator input.sk-toggleable__control:checked~label.sk-toggleable__label {background-color: #d4ebff;}#sk-container-id-2 div.sk-label input.sk-toggleable__control:checked~label.sk-toggleable__label {background-color: #d4ebff;}#sk-container-id-2 input.sk-hidden--visually {border: 0;clip: rect(1px 1px 1px 1px);clip: rect(1px, 1px, 1px, 1px);height: 1px;margin: -1px;overflow: hidden;padding: 0;position: absolute;width: 1px;}#sk-container-id-2 div.sk-estimator {font-family: monospace;background-color: #f0f8ff;border: 1px dotted black;border-radius: 0.25em;box-sizing: border-box;margin-bottom: 0.5em;}#sk-container-id-2 div.sk-estimator:hover {background-color: #d4ebff;}#sk-container-id-2 div.sk-parallel-item::after {content: \"\";width: 100%;border-bottom: 1px solid gray;flex-grow: 1;}#sk-container-id-2 div.sk-label:hover label.sk-toggleable__label {background-color: #d4ebff;}#sk-container-id-2 div.sk-serial::before {content: \"\";position: absolute;border-left: 1px solid gray;box-sizing: border-box;top: 0;bottom: 0;left: 50%;z-index: 0;}#sk-container-id-2 div.sk-serial {display: flex;flex-direction: column;align-items: center;background-color: white;padding-right: 0.2em;padding-left: 0.2em;position: relative;}#sk-container-id-2 div.sk-item {position: relative;z-index: 1;}#sk-container-id-2 div.sk-parallel {display: flex;align-items: stretch;justify-content: center;background-color: white;position: relative;}#sk-container-id-2 div.sk-item::before, #sk-container-id-2 div.sk-parallel-item::before {content: \"\";position: absolute;border-left: 1px solid gray;box-sizing: border-box;top: 0;bottom: 0;left: 50%;z-index: -1;}#sk-container-id-2 div.sk-parallel-item {display: flex;flex-direction: column;z-index: 1;position: relative;background-color: white;}#sk-container-id-2 div.sk-parallel-item:first-child::after {align-self: flex-end;width: 50%;}#sk-container-id-2 div.sk-parallel-item:last-child::after {align-self: flex-start;width: 50%;}#sk-container-id-2 div.sk-parallel-item:only-child::after {width: 0;}#sk-container-id-2 div.sk-dashed-wrapped {border: 1px dashed gray;margin: 0 0.4em 0.5em 0.4em;box-sizing: border-box;padding-bottom: 0.4em;background-color: white;}#sk-container-id-2 div.sk-label label {font-family: monospace;font-weight: bold;display: inline-block;line-height: 1.2em;}#sk-container-id-2 div.sk-label-container {text-align: center;}#sk-container-id-2 div.sk-container {/* jupyter's `normalize.less` sets `[hidden] { display: none; }` but bootstrap.min.css set `[hidden] { display: none !important; }` so we also need the `!important` here to be able to override the default hidden behavior on the sphinx rendered scikit-learn.org. See: https://github.com/scikit-learn/scikit-learn/issues/21755 */display: inline-block !important;position: relative;}#sk-container-id-2 div.sk-text-repr-fallback {display: none;}</style><div id=\"sk-container-id-2\" class=\"sk-top-container\"><div class=\"sk-text-repr-fallback\"><pre>DecisionTreeClassifier()</pre><b>In a Jupyter environment, please rerun this cell to show the HTML representation or trust the notebook. <br />On GitHub, the HTML representation is unable to render, please try loading this page with nbviewer.org.</b></div><div class=\"sk-container\" hidden><div class=\"sk-item\"><div class=\"sk-estimator sk-toggleable\"><input class=\"sk-toggleable__control sk-hidden--visually\" id=\"sk-estimator-id-2\" type=\"checkbox\" checked><label for=\"sk-estimator-id-2\" class=\"sk-toggleable__label sk-toggleable__label-arrow\">DecisionTreeClassifier</label><div class=\"sk-toggleable__content\"><pre>DecisionTreeClassifier()</pre></div></div></div></div></div>"
      ],
      "text/plain": [
       "DecisionTreeClassifier()"
      ]
     },
     "execution_count": 65,
     "metadata": {},
     "output_type": "execute_result"
    }
   ],
   "source": [
    "dt_clf = DecisionTreeClassifier()\n",
    "dt_clf.fit(x_train,y_train)"
   ]
  },
  {
   "cell_type": "markdown",
   "id": "35aa1e60",
   "metadata": {},
   "source": [
    "##### Hyperparameter Tuning for DT"
   ]
  },
  {
   "cell_type": "code",
   "execution_count": 66,
   "id": "1dc8547f",
   "metadata": {},
   "outputs": [],
   "source": [
    "# hyper_para = {\"criterion\" :['gini',\"entropy\"],\n",
    "#               \"max_depth\":np.arange(2,8),\n",
    "#         \"min_samples_split\":np.arange(3,20),\n",
    "#         \"min_samples_leaf\":np.arange(3,15),\n",
    "#              }\n",
    "# gscv_dt_clf = GridSearchCV(dt_clf,hyper_para,cv=5)\n",
    "# gscv_dt_clf.fit(x_train,y_train)"
   ]
  },
  {
   "cell_type": "code",
   "execution_count": 67,
   "id": "aff84f05",
   "metadata": {},
   "outputs": [],
   "source": [
    "#gscv_dt_clf.best_estimator_"
   ]
  },
  {
   "cell_type": "markdown",
   "id": "cab8138b",
   "metadata": {},
   "source": [
    "##### DecisionTree with hyperparameter tuning"
   ]
  },
  {
   "cell_type": "code",
   "execution_count": 68,
   "id": "082c604f",
   "metadata": {},
   "outputs": [
    {
     "data": {
      "text/html": [
       "<style>#sk-container-id-3 {color: black;background-color: white;}#sk-container-id-3 pre{padding: 0;}#sk-container-id-3 div.sk-toggleable {background-color: white;}#sk-container-id-3 label.sk-toggleable__label {cursor: pointer;display: block;width: 100%;margin-bottom: 0;padding: 0.3em;box-sizing: border-box;text-align: center;}#sk-container-id-3 label.sk-toggleable__label-arrow:before {content: \"▸\";float: left;margin-right: 0.25em;color: #696969;}#sk-container-id-3 label.sk-toggleable__label-arrow:hover:before {color: black;}#sk-container-id-3 div.sk-estimator:hover label.sk-toggleable__label-arrow:before {color: black;}#sk-container-id-3 div.sk-toggleable__content {max-height: 0;max-width: 0;overflow: hidden;text-align: left;background-color: #f0f8ff;}#sk-container-id-3 div.sk-toggleable__content pre {margin: 0.2em;color: black;border-radius: 0.25em;background-color: #f0f8ff;}#sk-container-id-3 input.sk-toggleable__control:checked~div.sk-toggleable__content {max-height: 200px;max-width: 100%;overflow: auto;}#sk-container-id-3 input.sk-toggleable__control:checked~label.sk-toggleable__label-arrow:before {content: \"▾\";}#sk-container-id-3 div.sk-estimator input.sk-toggleable__control:checked~label.sk-toggleable__label {background-color: #d4ebff;}#sk-container-id-3 div.sk-label input.sk-toggleable__control:checked~label.sk-toggleable__label {background-color: #d4ebff;}#sk-container-id-3 input.sk-hidden--visually {border: 0;clip: rect(1px 1px 1px 1px);clip: rect(1px, 1px, 1px, 1px);height: 1px;margin: -1px;overflow: hidden;padding: 0;position: absolute;width: 1px;}#sk-container-id-3 div.sk-estimator {font-family: monospace;background-color: #f0f8ff;border: 1px dotted black;border-radius: 0.25em;box-sizing: border-box;margin-bottom: 0.5em;}#sk-container-id-3 div.sk-estimator:hover {background-color: #d4ebff;}#sk-container-id-3 div.sk-parallel-item::after {content: \"\";width: 100%;border-bottom: 1px solid gray;flex-grow: 1;}#sk-container-id-3 div.sk-label:hover label.sk-toggleable__label {background-color: #d4ebff;}#sk-container-id-3 div.sk-serial::before {content: \"\";position: absolute;border-left: 1px solid gray;box-sizing: border-box;top: 0;bottom: 0;left: 50%;z-index: 0;}#sk-container-id-3 div.sk-serial {display: flex;flex-direction: column;align-items: center;background-color: white;padding-right: 0.2em;padding-left: 0.2em;position: relative;}#sk-container-id-3 div.sk-item {position: relative;z-index: 1;}#sk-container-id-3 div.sk-parallel {display: flex;align-items: stretch;justify-content: center;background-color: white;position: relative;}#sk-container-id-3 div.sk-item::before, #sk-container-id-3 div.sk-parallel-item::before {content: \"\";position: absolute;border-left: 1px solid gray;box-sizing: border-box;top: 0;bottom: 0;left: 50%;z-index: -1;}#sk-container-id-3 div.sk-parallel-item {display: flex;flex-direction: column;z-index: 1;position: relative;background-color: white;}#sk-container-id-3 div.sk-parallel-item:first-child::after {align-self: flex-end;width: 50%;}#sk-container-id-3 div.sk-parallel-item:last-child::after {align-self: flex-start;width: 50%;}#sk-container-id-3 div.sk-parallel-item:only-child::after {width: 0;}#sk-container-id-3 div.sk-dashed-wrapped {border: 1px dashed gray;margin: 0 0.4em 0.5em 0.4em;box-sizing: border-box;padding-bottom: 0.4em;background-color: white;}#sk-container-id-3 div.sk-label label {font-family: monospace;font-weight: bold;display: inline-block;line-height: 1.2em;}#sk-container-id-3 div.sk-label-container {text-align: center;}#sk-container-id-3 div.sk-container {/* jupyter's `normalize.less` sets `[hidden] { display: none; }` but bootstrap.min.css set `[hidden] { display: none !important; }` so we also need the `!important` here to be able to override the default hidden behavior on the sphinx rendered scikit-learn.org. See: https://github.com/scikit-learn/scikit-learn/issues/21755 */display: inline-block !important;position: relative;}#sk-container-id-3 div.sk-text-repr-fallback {display: none;}</style><div id=\"sk-container-id-3\" class=\"sk-top-container\"><div class=\"sk-text-repr-fallback\"><pre>DecisionTreeClassifier(max_depth=7, min_samples_leaf=13, min_samples_split=3)</pre><b>In a Jupyter environment, please rerun this cell to show the HTML representation or trust the notebook. <br />On GitHub, the HTML representation is unable to render, please try loading this page with nbviewer.org.</b></div><div class=\"sk-container\" hidden><div class=\"sk-item\"><div class=\"sk-estimator sk-toggleable\"><input class=\"sk-toggleable__control sk-hidden--visually\" id=\"sk-estimator-id-3\" type=\"checkbox\" checked><label for=\"sk-estimator-id-3\" class=\"sk-toggleable__label sk-toggleable__label-arrow\">DecisionTreeClassifier</label><div class=\"sk-toggleable__content\"><pre>DecisionTreeClassifier(max_depth=7, min_samples_leaf=13, min_samples_split=3)</pre></div></div></div></div></div>"
      ],
      "text/plain": [
       "DecisionTreeClassifier(max_depth=7, min_samples_leaf=13, min_samples_split=3)"
      ]
     },
     "execution_count": 68,
     "metadata": {},
     "output_type": "execute_result"
    }
   ],
   "source": [
    "dt_clf_with_tuning = DecisionTreeClassifier(criterion='gini',max_depth=7, min_samples_leaf=13, min_samples_split=3)\n",
    "dt_clf_with_tuning.fit(x_train,y_train)"
   ]
  },
  {
   "cell_type": "code",
   "execution_count": 69,
   "id": "a2db1a97",
   "metadata": {},
   "outputs": [
    {
     "name": "stdout",
     "output_type": "stream",
     "text": [
      "confusion matrix\n",
      " [[21529  4403]\n",
      " [ 9825 12178]]\n",
      "********************\n",
      "accuracy 0.7031813914676124\n",
      "********************\n",
      "classificatio report\n",
      "               precision    recall  f1-score   support\n",
      "\n",
      "           0       0.69      0.83      0.75     25932\n",
      "           1       0.73      0.55      0.63     22003\n",
      "\n",
      "    accuracy                           0.70     47935\n",
      "   macro avg       0.71      0.69      0.69     47935\n",
      "weighted avg       0.71      0.70      0.70     47935\n",
      "\n"
     ]
    }
   ],
   "source": [
    "# Training\n",
    "y_pred_train = dt_clf_with_tuning.predict(x_train)\n",
    "cnf_matrix = confusion_matrix(y_train,y_pred_train)\n",
    "print(\"confusion matrix\\n\",cnf_matrix)\n",
    "print(\"*\"*20)\n",
    "accuracy = accuracy_score(y_train,y_pred_train)\n",
    "print(\"accuracy\",accuracy)\n",
    "print(\"*\"*20)\n",
    "clf_report = classification_report(y_train,y_pred_train)\n",
    "print(\"classificatio report\\n\",clf_report)"
   ]
  },
  {
   "cell_type": "code",
   "execution_count": 70,
   "id": "8d02505a",
   "metadata": {},
   "outputs": [
    {
     "name": "stdout",
     "output_type": "stream",
     "text": [
      "confusion matrix\n",
      " [[10567  2174]\n",
      " [ 4877  5992]]\n",
      "********************\n",
      "accuracy 0.7013553578991952\n",
      "********************\n",
      "classificatio report\n",
      "               precision    recall  f1-score   support\n",
      "\n",
      "           0       0.68      0.83      0.75     12741\n",
      "           1       0.73      0.55      0.63     10869\n",
      "\n",
      "    accuracy                           0.70     23610\n",
      "   macro avg       0.71      0.69      0.69     23610\n",
      "weighted avg       0.71      0.70      0.69     23610\n",
      "\n"
     ]
    }
   ],
   "source": [
    "# Testing\n",
    "y_pred_test = dt_clf_with_tuning.predict(x_test)\n",
    "cnf_matrix = confusion_matrix(y_test,y_pred_test)\n",
    "print(\"confusion matrix\\n\",cnf_matrix)\n",
    "print(\"*\"*20)\n",
    "accuracy = accuracy_score(y_test,y_pred_test)\n",
    "print(\"accuracy\",accuracy)\n",
    "print(\"*\"*20)\n",
    "clf_report = classification_report(y_test,y_pred_test)\n",
    "print(\"classificatio report\\n\",clf_report)"
   ]
  },
  {
   "cell_type": "markdown",
   "id": "bff919ee",
   "metadata": {},
   "source": [
    "## Random Forest"
   ]
  },
  {
   "cell_type": "code",
   "execution_count": 71,
   "id": "e7906447",
   "metadata": {},
   "outputs": [
    {
     "data": {
      "text/html": [
       "<style>#sk-container-id-4 {color: black;background-color: white;}#sk-container-id-4 pre{padding: 0;}#sk-container-id-4 div.sk-toggleable {background-color: white;}#sk-container-id-4 label.sk-toggleable__label {cursor: pointer;display: block;width: 100%;margin-bottom: 0;padding: 0.3em;box-sizing: border-box;text-align: center;}#sk-container-id-4 label.sk-toggleable__label-arrow:before {content: \"▸\";float: left;margin-right: 0.25em;color: #696969;}#sk-container-id-4 label.sk-toggleable__label-arrow:hover:before {color: black;}#sk-container-id-4 div.sk-estimator:hover label.sk-toggleable__label-arrow:before {color: black;}#sk-container-id-4 div.sk-toggleable__content {max-height: 0;max-width: 0;overflow: hidden;text-align: left;background-color: #f0f8ff;}#sk-container-id-4 div.sk-toggleable__content pre {margin: 0.2em;color: black;border-radius: 0.25em;background-color: #f0f8ff;}#sk-container-id-4 input.sk-toggleable__control:checked~div.sk-toggleable__content {max-height: 200px;max-width: 100%;overflow: auto;}#sk-container-id-4 input.sk-toggleable__control:checked~label.sk-toggleable__label-arrow:before {content: \"▾\";}#sk-container-id-4 div.sk-estimator input.sk-toggleable__control:checked~label.sk-toggleable__label {background-color: #d4ebff;}#sk-container-id-4 div.sk-label input.sk-toggleable__control:checked~label.sk-toggleable__label {background-color: #d4ebff;}#sk-container-id-4 input.sk-hidden--visually {border: 0;clip: rect(1px 1px 1px 1px);clip: rect(1px, 1px, 1px, 1px);height: 1px;margin: -1px;overflow: hidden;padding: 0;position: absolute;width: 1px;}#sk-container-id-4 div.sk-estimator {font-family: monospace;background-color: #f0f8ff;border: 1px dotted black;border-radius: 0.25em;box-sizing: border-box;margin-bottom: 0.5em;}#sk-container-id-4 div.sk-estimator:hover {background-color: #d4ebff;}#sk-container-id-4 div.sk-parallel-item::after {content: \"\";width: 100%;border-bottom: 1px solid gray;flex-grow: 1;}#sk-container-id-4 div.sk-label:hover label.sk-toggleable__label {background-color: #d4ebff;}#sk-container-id-4 div.sk-serial::before {content: \"\";position: absolute;border-left: 1px solid gray;box-sizing: border-box;top: 0;bottom: 0;left: 50%;z-index: 0;}#sk-container-id-4 div.sk-serial {display: flex;flex-direction: column;align-items: center;background-color: white;padding-right: 0.2em;padding-left: 0.2em;position: relative;}#sk-container-id-4 div.sk-item {position: relative;z-index: 1;}#sk-container-id-4 div.sk-parallel {display: flex;align-items: stretch;justify-content: center;background-color: white;position: relative;}#sk-container-id-4 div.sk-item::before, #sk-container-id-4 div.sk-parallel-item::before {content: \"\";position: absolute;border-left: 1px solid gray;box-sizing: border-box;top: 0;bottom: 0;left: 50%;z-index: -1;}#sk-container-id-4 div.sk-parallel-item {display: flex;flex-direction: column;z-index: 1;position: relative;background-color: white;}#sk-container-id-4 div.sk-parallel-item:first-child::after {align-self: flex-end;width: 50%;}#sk-container-id-4 div.sk-parallel-item:last-child::after {align-self: flex-start;width: 50%;}#sk-container-id-4 div.sk-parallel-item:only-child::after {width: 0;}#sk-container-id-4 div.sk-dashed-wrapped {border: 1px dashed gray;margin: 0 0.4em 0.5em 0.4em;box-sizing: border-box;padding-bottom: 0.4em;background-color: white;}#sk-container-id-4 div.sk-label label {font-family: monospace;font-weight: bold;display: inline-block;line-height: 1.2em;}#sk-container-id-4 div.sk-label-container {text-align: center;}#sk-container-id-4 div.sk-container {/* jupyter's `normalize.less` sets `[hidden] { display: none; }` but bootstrap.min.css set `[hidden] { display: none !important; }` so we also need the `!important` here to be able to override the default hidden behavior on the sphinx rendered scikit-learn.org. See: https://github.com/scikit-learn/scikit-learn/issues/21755 */display: inline-block !important;position: relative;}#sk-container-id-4 div.sk-text-repr-fallback {display: none;}</style><div id=\"sk-container-id-4\" class=\"sk-top-container\"><div class=\"sk-text-repr-fallback\"><pre>RandomForestClassifier()</pre><b>In a Jupyter environment, please rerun this cell to show the HTML representation or trust the notebook. <br />On GitHub, the HTML representation is unable to render, please try loading this page with nbviewer.org.</b></div><div class=\"sk-container\" hidden><div class=\"sk-item\"><div class=\"sk-estimator sk-toggleable\"><input class=\"sk-toggleable__control sk-hidden--visually\" id=\"sk-estimator-id-4\" type=\"checkbox\" checked><label for=\"sk-estimator-id-4\" class=\"sk-toggleable__label sk-toggleable__label-arrow\">RandomForestClassifier</label><div class=\"sk-toggleable__content\"><pre>RandomForestClassifier()</pre></div></div></div></div></div>"
      ],
      "text/plain": [
       "RandomForestClassifier()"
      ]
     },
     "execution_count": 71,
     "metadata": {},
     "output_type": "execute_result"
    }
   ],
   "source": [
    "rf_clf = RandomForestClassifier()\n",
    "rf_clf.fit(x_train,y_train)"
   ]
  },
  {
   "cell_type": "code",
   "execution_count": 72,
   "id": "636d4f3d",
   "metadata": {},
   "outputs": [
    {
     "name": "stdout",
     "output_type": "stream",
     "text": [
      "confusion metrics\n",
      " [[25930     2]\n",
      " [    2 22001]]\n",
      "accuracy 0.9999165536664233\n",
      "clf_report\n",
      "               precision    recall  f1-score   support\n",
      "\n",
      "           0       1.00      1.00      1.00     25932\n",
      "           1       1.00      1.00      1.00     22003\n",
      "\n",
      "    accuracy                           1.00     47935\n",
      "   macro avg       1.00      1.00      1.00     47935\n",
      "weighted avg       1.00      1.00      1.00     47935\n",
      "\n"
     ]
    }
   ],
   "source": [
    "#Training \n",
    "y_pred_train = rf_clf.predict(x_train)\n",
    "\n",
    "cnf_metrics = confusion_matrix(y_train,y_pred_train)\n",
    "print(\"confusion metrics\\n\",cnf_metrics)\n",
    "\n",
    "accuracy = accuracy_score(y_train,y_pred_train)\n",
    "print(\"accuracy\",accuracy)\n",
    "clf_report = classification_report(y_train,y_pred_train)\n",
    "print(\"clf_report\\n\",clf_report)"
   ]
  },
  {
   "cell_type": "code",
   "execution_count": 73,
   "id": "1de80341",
   "metadata": {},
   "outputs": [
    {
     "name": "stdout",
     "output_type": "stream",
     "text": [
      "confusion metrics\n",
      " [[10921  1820]\n",
      " [ 3941  6928]]\n",
      "accuracy 0.755993223210504\n",
      "clf_report\n",
      "               precision    recall  f1-score   support\n",
      "\n",
      "           0       0.73      0.86      0.79     12741\n",
      "           1       0.79      0.64      0.71     10869\n",
      "\n",
      "    accuracy                           0.76     23610\n",
      "   macro avg       0.76      0.75      0.75     23610\n",
      "weighted avg       0.76      0.76      0.75     23610\n",
      "\n"
     ]
    }
   ],
   "source": [
    "#Testing\n",
    "y_pred_test = rf_clf.predict(x_test)\n",
    "\n",
    "cnf_metrics = confusion_matrix(y_test,y_pred_test)\n",
    "print(\"confusion metrics\\n\",cnf_metrics)\n",
    "\n",
    "accuracy = accuracy_score(y_test,y_pred_test)\n",
    "print(\"accuracy\",accuracy)\n",
    "clf_report = classification_report(y_test,y_pred_test)\n",
    "print(\"clf_report\\n\",clf_report)"
   ]
  },
  {
   "cell_type": "markdown",
   "id": "a4f4e185",
   "metadata": {},
   "source": [
    "## Adabost"
   ]
  },
  {
   "cell_type": "code",
   "execution_count": 74,
   "id": "c81a103a",
   "metadata": {},
   "outputs": [
    {
     "data": {
      "text/html": [
       "<style>#sk-container-id-5 {color: black;background-color: white;}#sk-container-id-5 pre{padding: 0;}#sk-container-id-5 div.sk-toggleable {background-color: white;}#sk-container-id-5 label.sk-toggleable__label {cursor: pointer;display: block;width: 100%;margin-bottom: 0;padding: 0.3em;box-sizing: border-box;text-align: center;}#sk-container-id-5 label.sk-toggleable__label-arrow:before {content: \"▸\";float: left;margin-right: 0.25em;color: #696969;}#sk-container-id-5 label.sk-toggleable__label-arrow:hover:before {color: black;}#sk-container-id-5 div.sk-estimator:hover label.sk-toggleable__label-arrow:before {color: black;}#sk-container-id-5 div.sk-toggleable__content {max-height: 0;max-width: 0;overflow: hidden;text-align: left;background-color: #f0f8ff;}#sk-container-id-5 div.sk-toggleable__content pre {margin: 0.2em;color: black;border-radius: 0.25em;background-color: #f0f8ff;}#sk-container-id-5 input.sk-toggleable__control:checked~div.sk-toggleable__content {max-height: 200px;max-width: 100%;overflow: auto;}#sk-container-id-5 input.sk-toggleable__control:checked~label.sk-toggleable__label-arrow:before {content: \"▾\";}#sk-container-id-5 div.sk-estimator input.sk-toggleable__control:checked~label.sk-toggleable__label {background-color: #d4ebff;}#sk-container-id-5 div.sk-label input.sk-toggleable__control:checked~label.sk-toggleable__label {background-color: #d4ebff;}#sk-container-id-5 input.sk-hidden--visually {border: 0;clip: rect(1px 1px 1px 1px);clip: rect(1px, 1px, 1px, 1px);height: 1px;margin: -1px;overflow: hidden;padding: 0;position: absolute;width: 1px;}#sk-container-id-5 div.sk-estimator {font-family: monospace;background-color: #f0f8ff;border: 1px dotted black;border-radius: 0.25em;box-sizing: border-box;margin-bottom: 0.5em;}#sk-container-id-5 div.sk-estimator:hover {background-color: #d4ebff;}#sk-container-id-5 div.sk-parallel-item::after {content: \"\";width: 100%;border-bottom: 1px solid gray;flex-grow: 1;}#sk-container-id-5 div.sk-label:hover label.sk-toggleable__label {background-color: #d4ebff;}#sk-container-id-5 div.sk-serial::before {content: \"\";position: absolute;border-left: 1px solid gray;box-sizing: border-box;top: 0;bottom: 0;left: 50%;z-index: 0;}#sk-container-id-5 div.sk-serial {display: flex;flex-direction: column;align-items: center;background-color: white;padding-right: 0.2em;padding-left: 0.2em;position: relative;}#sk-container-id-5 div.sk-item {position: relative;z-index: 1;}#sk-container-id-5 div.sk-parallel {display: flex;align-items: stretch;justify-content: center;background-color: white;position: relative;}#sk-container-id-5 div.sk-item::before, #sk-container-id-5 div.sk-parallel-item::before {content: \"\";position: absolute;border-left: 1px solid gray;box-sizing: border-box;top: 0;bottom: 0;left: 50%;z-index: -1;}#sk-container-id-5 div.sk-parallel-item {display: flex;flex-direction: column;z-index: 1;position: relative;background-color: white;}#sk-container-id-5 div.sk-parallel-item:first-child::after {align-self: flex-end;width: 50%;}#sk-container-id-5 div.sk-parallel-item:last-child::after {align-self: flex-start;width: 50%;}#sk-container-id-5 div.sk-parallel-item:only-child::after {width: 0;}#sk-container-id-5 div.sk-dashed-wrapped {border: 1px dashed gray;margin: 0 0.4em 0.5em 0.4em;box-sizing: border-box;padding-bottom: 0.4em;background-color: white;}#sk-container-id-5 div.sk-label label {font-family: monospace;font-weight: bold;display: inline-block;line-height: 1.2em;}#sk-container-id-5 div.sk-label-container {text-align: center;}#sk-container-id-5 div.sk-container {/* jupyter's `normalize.less` sets `[hidden] { display: none; }` but bootstrap.min.css set `[hidden] { display: none !important; }` so we also need the `!important` here to be able to override the default hidden behavior on the sphinx rendered scikit-learn.org. See: https://github.com/scikit-learn/scikit-learn/issues/21755 */display: inline-block !important;position: relative;}#sk-container-id-5 div.sk-text-repr-fallback {display: none;}</style><div id=\"sk-container-id-5\" class=\"sk-top-container\"><div class=\"sk-text-repr-fallback\"><pre>AdaBoostClassifier()</pre><b>In a Jupyter environment, please rerun this cell to show the HTML representation or trust the notebook. <br />On GitHub, the HTML representation is unable to render, please try loading this page with nbviewer.org.</b></div><div class=\"sk-container\" hidden><div class=\"sk-item\"><div class=\"sk-estimator sk-toggleable\"><input class=\"sk-toggleable__control sk-hidden--visually\" id=\"sk-estimator-id-5\" type=\"checkbox\" checked><label for=\"sk-estimator-id-5\" class=\"sk-toggleable__label sk-toggleable__label-arrow\">AdaBoostClassifier</label><div class=\"sk-toggleable__content\"><pre>AdaBoostClassifier()</pre></div></div></div></div></div>"
      ],
      "text/plain": [
       "AdaBoostClassifier()"
      ]
     },
     "execution_count": 74,
     "metadata": {},
     "output_type": "execute_result"
    }
   ],
   "source": [
    "adb_clf = AdaBoostClassifier()\n",
    "adb_clf.fit(x_train,y_train)"
   ]
  },
  {
   "cell_type": "code",
   "execution_count": 75,
   "id": "f764f692",
   "metadata": {},
   "outputs": [
    {
     "name": "stdout",
     "output_type": "stream",
     "text": [
      "confusion metrics\n",
      " [[21914  4018]\n",
      " [10295 11708]]\n",
      "accuracy 0.7014081568791071\n",
      "clf_report\n",
      "               precision    recall  f1-score   support\n",
      "\n",
      "           0       0.68      0.85      0.75     25932\n",
      "           1       0.74      0.53      0.62     22003\n",
      "\n",
      "    accuracy                           0.70     47935\n",
      "   macro avg       0.71      0.69      0.69     47935\n",
      "weighted avg       0.71      0.70      0.69     47935\n",
      "\n"
     ]
    }
   ],
   "source": [
    "#Training \n",
    "y_pred_train = adb_clf.predict(x_train)\n",
    "\n",
    "cnf_metrics = confusion_matrix(y_train,y_pred_train)\n",
    "print(\"confusion metrics\\n\",cnf_metrics)\n",
    "\n",
    "accuracy = accuracy_score(y_train,y_pred_train)\n",
    "print(\"accuracy\",accuracy)\n",
    "clf_report = classification_report(y_train,y_pred_train)\n",
    "print(\"clf_report\\n\",clf_report)"
   ]
  },
  {
   "cell_type": "code",
   "execution_count": 76,
   "id": "ed7457db",
   "metadata": {},
   "outputs": [
    {
     "name": "stdout",
     "output_type": "stream",
     "text": [
      "confusion metrics\n",
      " [[10871  1870]\n",
      " [ 5114  5755]]\n",
      "accuracy 0.7041931385006354\n",
      "clf_report\n",
      "               precision    recall  f1-score   support\n",
      "\n",
      "           0       0.68      0.85      0.76     12741\n",
      "           1       0.75      0.53      0.62     10869\n",
      "\n",
      "    accuracy                           0.70     23610\n",
      "   macro avg       0.72      0.69      0.69     23610\n",
      "weighted avg       0.71      0.70      0.69     23610\n",
      "\n"
     ]
    }
   ],
   "source": [
    "#Testing\n",
    "y_pred_test = adb_clf.predict(x_test)\n",
    "\n",
    "cnf_metrics = confusion_matrix(y_test,y_pred_test)\n",
    "print(\"confusion metrics\\n\",cnf_metrics)\n",
    "\n",
    "accuracy = accuracy_score(y_test,y_pred_test)\n",
    "print(\"accuracy\",accuracy)\n",
    "clf_report = classification_report(y_test,y_pred_test)\n",
    "print(\"clf_report\\n\",clf_report)"
   ]
  },
  {
   "cell_type": "markdown",
   "id": "df6fff4e",
   "metadata": {},
   "source": [
    "## GradientBoost"
   ]
  },
  {
   "cell_type": "code",
   "execution_count": 77,
   "id": "1fe9c51a",
   "metadata": {},
   "outputs": [
    {
     "data": {
      "text/html": [
       "<style>#sk-container-id-6 {color: black;background-color: white;}#sk-container-id-6 pre{padding: 0;}#sk-container-id-6 div.sk-toggleable {background-color: white;}#sk-container-id-6 label.sk-toggleable__label {cursor: pointer;display: block;width: 100%;margin-bottom: 0;padding: 0.3em;box-sizing: border-box;text-align: center;}#sk-container-id-6 label.sk-toggleable__label-arrow:before {content: \"▸\";float: left;margin-right: 0.25em;color: #696969;}#sk-container-id-6 label.sk-toggleable__label-arrow:hover:before {color: black;}#sk-container-id-6 div.sk-estimator:hover label.sk-toggleable__label-arrow:before {color: black;}#sk-container-id-6 div.sk-toggleable__content {max-height: 0;max-width: 0;overflow: hidden;text-align: left;background-color: #f0f8ff;}#sk-container-id-6 div.sk-toggleable__content pre {margin: 0.2em;color: black;border-radius: 0.25em;background-color: #f0f8ff;}#sk-container-id-6 input.sk-toggleable__control:checked~div.sk-toggleable__content {max-height: 200px;max-width: 100%;overflow: auto;}#sk-container-id-6 input.sk-toggleable__control:checked~label.sk-toggleable__label-arrow:before {content: \"▾\";}#sk-container-id-6 div.sk-estimator input.sk-toggleable__control:checked~label.sk-toggleable__label {background-color: #d4ebff;}#sk-container-id-6 div.sk-label input.sk-toggleable__control:checked~label.sk-toggleable__label {background-color: #d4ebff;}#sk-container-id-6 input.sk-hidden--visually {border: 0;clip: rect(1px 1px 1px 1px);clip: rect(1px, 1px, 1px, 1px);height: 1px;margin: -1px;overflow: hidden;padding: 0;position: absolute;width: 1px;}#sk-container-id-6 div.sk-estimator {font-family: monospace;background-color: #f0f8ff;border: 1px dotted black;border-radius: 0.25em;box-sizing: border-box;margin-bottom: 0.5em;}#sk-container-id-6 div.sk-estimator:hover {background-color: #d4ebff;}#sk-container-id-6 div.sk-parallel-item::after {content: \"\";width: 100%;border-bottom: 1px solid gray;flex-grow: 1;}#sk-container-id-6 div.sk-label:hover label.sk-toggleable__label {background-color: #d4ebff;}#sk-container-id-6 div.sk-serial::before {content: \"\";position: absolute;border-left: 1px solid gray;box-sizing: border-box;top: 0;bottom: 0;left: 50%;z-index: 0;}#sk-container-id-6 div.sk-serial {display: flex;flex-direction: column;align-items: center;background-color: white;padding-right: 0.2em;padding-left: 0.2em;position: relative;}#sk-container-id-6 div.sk-item {position: relative;z-index: 1;}#sk-container-id-6 div.sk-parallel {display: flex;align-items: stretch;justify-content: center;background-color: white;position: relative;}#sk-container-id-6 div.sk-item::before, #sk-container-id-6 div.sk-parallel-item::before {content: \"\";position: absolute;border-left: 1px solid gray;box-sizing: border-box;top: 0;bottom: 0;left: 50%;z-index: -1;}#sk-container-id-6 div.sk-parallel-item {display: flex;flex-direction: column;z-index: 1;position: relative;background-color: white;}#sk-container-id-6 div.sk-parallel-item:first-child::after {align-self: flex-end;width: 50%;}#sk-container-id-6 div.sk-parallel-item:last-child::after {align-self: flex-start;width: 50%;}#sk-container-id-6 div.sk-parallel-item:only-child::after {width: 0;}#sk-container-id-6 div.sk-dashed-wrapped {border: 1px dashed gray;margin: 0 0.4em 0.5em 0.4em;box-sizing: border-box;padding-bottom: 0.4em;background-color: white;}#sk-container-id-6 div.sk-label label {font-family: monospace;font-weight: bold;display: inline-block;line-height: 1.2em;}#sk-container-id-6 div.sk-label-container {text-align: center;}#sk-container-id-6 div.sk-container {/* jupyter's `normalize.less` sets `[hidden] { display: none; }` but bootstrap.min.css set `[hidden] { display: none !important; }` so we also need the `!important` here to be able to override the default hidden behavior on the sphinx rendered scikit-learn.org. See: https://github.com/scikit-learn/scikit-learn/issues/21755 */display: inline-block !important;position: relative;}#sk-container-id-6 div.sk-text-repr-fallback {display: none;}</style><div id=\"sk-container-id-6\" class=\"sk-top-container\"><div class=\"sk-text-repr-fallback\"><pre>GradientBoostingClassifier()</pre><b>In a Jupyter environment, please rerun this cell to show the HTML representation or trust the notebook. <br />On GitHub, the HTML representation is unable to render, please try loading this page with nbviewer.org.</b></div><div class=\"sk-container\" hidden><div class=\"sk-item\"><div class=\"sk-estimator sk-toggleable\"><input class=\"sk-toggleable__control sk-hidden--visually\" id=\"sk-estimator-id-6\" type=\"checkbox\" checked><label for=\"sk-estimator-id-6\" class=\"sk-toggleable__label sk-toggleable__label-arrow\">GradientBoostingClassifier</label><div class=\"sk-toggleable__content\"><pre>GradientBoostingClassifier()</pre></div></div></div></div></div>"
      ],
      "text/plain": [
       "GradientBoostingClassifier()"
      ]
     },
     "execution_count": 77,
     "metadata": {},
     "output_type": "execute_result"
    }
   ],
   "source": [
    "gb_clf = GradientBoostingClassifier()\n",
    "gb_clf.fit(x_train,y_train)"
   ]
  },
  {
   "cell_type": "code",
   "execution_count": 78,
   "id": "82f23768",
   "metadata": {},
   "outputs": [
    {
     "name": "stdout",
     "output_type": "stream",
     "text": [
      "confusion metrics\n",
      " [[24061  1871]\n",
      " [10417 11586]]\n",
      "accuracy 0.7436528632523208\n",
      "clf_report\n",
      "               precision    recall  f1-score   support\n",
      "\n",
      "           0       0.70      0.93      0.80     25932\n",
      "           1       0.86      0.53      0.65     22003\n",
      "\n",
      "    accuracy                           0.74     47935\n",
      "   macro avg       0.78      0.73      0.73     47935\n",
      "weighted avg       0.77      0.74      0.73     47935\n",
      "\n"
     ]
    }
   ],
   "source": [
    "#Training \n",
    "y_pred_train = gb_clf.predict(x_train)\n",
    "\n",
    "cnf_metrics = confusion_matrix(y_train,y_pred_train)\n",
    "print(\"confusion metrics\\n\",cnf_metrics)\n",
    "\n",
    "accuracy = accuracy_score(y_train,y_pred_train)\n",
    "print(\"accuracy\",accuracy)\n",
    "clf_report = classification_report(y_train,y_pred_train)\n",
    "print(\"clf_report\\n\",clf_report)"
   ]
  },
  {
   "cell_type": "code",
   "execution_count": 79,
   "id": "8a6c134c",
   "metadata": {},
   "outputs": [
    {
     "name": "stdout",
     "output_type": "stream",
     "text": [
      "confusion metrics\n",
      " [[11853   888]\n",
      " [ 5230  5639]]\n",
      "accuracy 0.7408725116476069\n",
      "clf_report\n",
      "               precision    recall  f1-score   support\n",
      "\n",
      "           0       0.69      0.93      0.79     12741\n",
      "           1       0.86      0.52      0.65     10869\n",
      "\n",
      "    accuracy                           0.74     23610\n",
      "   macro avg       0.78      0.72      0.72     23610\n",
      "weighted avg       0.77      0.74      0.73     23610\n",
      "\n"
     ]
    }
   ],
   "source": [
    "#Testing\n",
    "y_pred_test = gb_clf.predict(x_test)\n",
    "\n",
    "cnf_metrics = confusion_matrix(y_test,y_pred_test)\n",
    "print(\"confusion metrics\\n\",cnf_metrics)\n",
    "\n",
    "accuracy = accuracy_score(y_test,y_pred_test)\n",
    "print(\"accuracy\",accuracy)\n",
    "clf_report = classification_report(y_test,y_pred_test)\n",
    "print(\"clf_report\\n\",clf_report)"
   ]
  },
  {
   "cell_type": "markdown",
   "id": "386b04fd",
   "metadata": {},
   "source": [
    "## XGboost"
   ]
  },
  {
   "cell_type": "code",
   "execution_count": 80,
   "id": "ed763b4e",
   "metadata": {},
   "outputs": [
    {
     "data": {
      "text/html": [
       "<style>#sk-container-id-7 {color: black;background-color: white;}#sk-container-id-7 pre{padding: 0;}#sk-container-id-7 div.sk-toggleable {background-color: white;}#sk-container-id-7 label.sk-toggleable__label {cursor: pointer;display: block;width: 100%;margin-bottom: 0;padding: 0.3em;box-sizing: border-box;text-align: center;}#sk-container-id-7 label.sk-toggleable__label-arrow:before {content: \"▸\";float: left;margin-right: 0.25em;color: #696969;}#sk-container-id-7 label.sk-toggleable__label-arrow:hover:before {color: black;}#sk-container-id-7 div.sk-estimator:hover label.sk-toggleable__label-arrow:before {color: black;}#sk-container-id-7 div.sk-toggleable__content {max-height: 0;max-width: 0;overflow: hidden;text-align: left;background-color: #f0f8ff;}#sk-container-id-7 div.sk-toggleable__content pre {margin: 0.2em;color: black;border-radius: 0.25em;background-color: #f0f8ff;}#sk-container-id-7 input.sk-toggleable__control:checked~div.sk-toggleable__content {max-height: 200px;max-width: 100%;overflow: auto;}#sk-container-id-7 input.sk-toggleable__control:checked~label.sk-toggleable__label-arrow:before {content: \"▾\";}#sk-container-id-7 div.sk-estimator input.sk-toggleable__control:checked~label.sk-toggleable__label {background-color: #d4ebff;}#sk-container-id-7 div.sk-label input.sk-toggleable__control:checked~label.sk-toggleable__label {background-color: #d4ebff;}#sk-container-id-7 input.sk-hidden--visually {border: 0;clip: rect(1px 1px 1px 1px);clip: rect(1px, 1px, 1px, 1px);height: 1px;margin: -1px;overflow: hidden;padding: 0;position: absolute;width: 1px;}#sk-container-id-7 div.sk-estimator {font-family: monospace;background-color: #f0f8ff;border: 1px dotted black;border-radius: 0.25em;box-sizing: border-box;margin-bottom: 0.5em;}#sk-container-id-7 div.sk-estimator:hover {background-color: #d4ebff;}#sk-container-id-7 div.sk-parallel-item::after {content: \"\";width: 100%;border-bottom: 1px solid gray;flex-grow: 1;}#sk-container-id-7 div.sk-label:hover label.sk-toggleable__label {background-color: #d4ebff;}#sk-container-id-7 div.sk-serial::before {content: \"\";position: absolute;border-left: 1px solid gray;box-sizing: border-box;top: 0;bottom: 0;left: 50%;z-index: 0;}#sk-container-id-7 div.sk-serial {display: flex;flex-direction: column;align-items: center;background-color: white;padding-right: 0.2em;padding-left: 0.2em;position: relative;}#sk-container-id-7 div.sk-item {position: relative;z-index: 1;}#sk-container-id-7 div.sk-parallel {display: flex;align-items: stretch;justify-content: center;background-color: white;position: relative;}#sk-container-id-7 div.sk-item::before, #sk-container-id-7 div.sk-parallel-item::before {content: \"\";position: absolute;border-left: 1px solid gray;box-sizing: border-box;top: 0;bottom: 0;left: 50%;z-index: -1;}#sk-container-id-7 div.sk-parallel-item {display: flex;flex-direction: column;z-index: 1;position: relative;background-color: white;}#sk-container-id-7 div.sk-parallel-item:first-child::after {align-self: flex-end;width: 50%;}#sk-container-id-7 div.sk-parallel-item:last-child::after {align-self: flex-start;width: 50%;}#sk-container-id-7 div.sk-parallel-item:only-child::after {width: 0;}#sk-container-id-7 div.sk-dashed-wrapped {border: 1px dashed gray;margin: 0 0.4em 0.5em 0.4em;box-sizing: border-box;padding-bottom: 0.4em;background-color: white;}#sk-container-id-7 div.sk-label label {font-family: monospace;font-weight: bold;display: inline-block;line-height: 1.2em;}#sk-container-id-7 div.sk-label-container {text-align: center;}#sk-container-id-7 div.sk-container {/* jupyter's `normalize.less` sets `[hidden] { display: none; }` but bootstrap.min.css set `[hidden] { display: none !important; }` so we also need the `!important` here to be able to override the default hidden behavior on the sphinx rendered scikit-learn.org. See: https://github.com/scikit-learn/scikit-learn/issues/21755 */display: inline-block !important;position: relative;}#sk-container-id-7 div.sk-text-repr-fallback {display: none;}</style><div id=\"sk-container-id-7\" class=\"sk-top-container\"><div class=\"sk-text-repr-fallback\"><pre>XGBClassifier(base_score=0.5, booster=&#x27;gbtree&#x27;, callbacks=None,\n",
       "              colsample_bylevel=1, colsample_bynode=1, colsample_bytree=1,\n",
       "              early_stopping_rounds=None, enable_categorical=False,\n",
       "              eval_metric=None, feature_types=None, gamma=0, gpu_id=-1,\n",
       "              grow_policy=&#x27;depthwise&#x27;, importance_type=None,\n",
       "              interaction_constraints=&#x27;&#x27;, learning_rate=0.300000012,\n",
       "              max_bin=256, max_cat_threshold=64, max_cat_to_onehot=4,\n",
       "              max_delta_step=0, max_depth=6, max_leaves=0, min_child_weight=1,\n",
       "              missing=nan, monotone_constraints=&#x27;()&#x27;, n_estimators=100,\n",
       "              n_jobs=0, num_parallel_tree=1, predictor=&#x27;auto&#x27;, random_state=0, ...)</pre><b>In a Jupyter environment, please rerun this cell to show the HTML representation or trust the notebook. <br />On GitHub, the HTML representation is unable to render, please try loading this page with nbviewer.org.</b></div><div class=\"sk-container\" hidden><div class=\"sk-item\"><div class=\"sk-estimator sk-toggleable\"><input class=\"sk-toggleable__control sk-hidden--visually\" id=\"sk-estimator-id-7\" type=\"checkbox\" checked><label for=\"sk-estimator-id-7\" class=\"sk-toggleable__label sk-toggleable__label-arrow\">XGBClassifier</label><div class=\"sk-toggleable__content\"><pre>XGBClassifier(base_score=0.5, booster=&#x27;gbtree&#x27;, callbacks=None,\n",
       "              colsample_bylevel=1, colsample_bynode=1, colsample_bytree=1,\n",
       "              early_stopping_rounds=None, enable_categorical=False,\n",
       "              eval_metric=None, feature_types=None, gamma=0, gpu_id=-1,\n",
       "              grow_policy=&#x27;depthwise&#x27;, importance_type=None,\n",
       "              interaction_constraints=&#x27;&#x27;, learning_rate=0.300000012,\n",
       "              max_bin=256, max_cat_threshold=64, max_cat_to_onehot=4,\n",
       "              max_delta_step=0, max_depth=6, max_leaves=0, min_child_weight=1,\n",
       "              missing=nan, monotone_constraints=&#x27;()&#x27;, n_estimators=100,\n",
       "              n_jobs=0, num_parallel_tree=1, predictor=&#x27;auto&#x27;, random_state=0, ...)</pre></div></div></div></div></div>"
      ],
      "text/plain": [
       "XGBClassifier(base_score=0.5, booster='gbtree', callbacks=None,\n",
       "              colsample_bylevel=1, colsample_bynode=1, colsample_bytree=1,\n",
       "              early_stopping_rounds=None, enable_categorical=False,\n",
       "              eval_metric=None, feature_types=None, gamma=0, gpu_id=-1,\n",
       "              grow_policy='depthwise', importance_type=None,\n",
       "              interaction_constraints='', learning_rate=0.300000012,\n",
       "              max_bin=256, max_cat_threshold=64, max_cat_to_onehot=4,\n",
       "              max_delta_step=0, max_depth=6, max_leaves=0, min_child_weight=1,\n",
       "              missing=nan, monotone_constraints='()', n_estimators=100,\n",
       "              n_jobs=0, num_parallel_tree=1, predictor='auto', random_state=0, ...)"
      ]
     },
     "execution_count": 80,
     "metadata": {},
     "output_type": "execute_result"
    }
   ],
   "source": [
    "xgb_clf = XGBClassifier()\n",
    "xgb_clf.fit(x_train,y_train)"
   ]
  },
  {
   "cell_type": "code",
   "execution_count": 81,
   "id": "8978cdbe",
   "metadata": {},
   "outputs": [
    {
     "name": "stdout",
     "output_type": "stream",
     "text": [
      "confusion metrics\n",
      " [[24949   983]\n",
      " [ 6789 15214]]\n",
      "accuracy 0.837863773860436\n",
      "clf_report\n",
      "               precision    recall  f1-score   support\n",
      "\n",
      "           0       0.79      0.96      0.87     25932\n",
      "           1       0.94      0.69      0.80     22003\n",
      "\n",
      "    accuracy                           0.84     47935\n",
      "   macro avg       0.86      0.83      0.83     47935\n",
      "weighted avg       0.86      0.84      0.83     47935\n",
      "\n"
     ]
    }
   ],
   "source": [
    "#Training \n",
    "y_pred_train = xgb_clf.predict(x_train)\n",
    "\n",
    "cnf_metrics = confusion_matrix(y_train,y_pred_train)\n",
    "print(\"confusion metrics\\n\",cnf_metrics)\n",
    "\n",
    "accuracy = accuracy_score(y_train,y_pred_train)\n",
    "print(\"accuracy\",accuracy)\n",
    "clf_report = classification_report(y_train,y_pred_train)\n",
    "print(\"clf_report\\n\",clf_report)"
   ]
  },
  {
   "cell_type": "code",
   "execution_count": 82,
   "id": "36ebab5e",
   "metadata": {},
   "outputs": [
    {
     "name": "stdout",
     "output_type": "stream",
     "text": [
      "confusion metrics\n",
      " [[11912   829]\n",
      " [ 3941  6928]]\n",
      "accuracy 0.7979669631512071\n",
      "clf_report\n",
      "               precision    recall  f1-score   support\n",
      "\n",
      "           0       0.75      0.93      0.83     12741\n",
      "           1       0.89      0.64      0.74     10869\n",
      "\n",
      "    accuracy                           0.80     23610\n",
      "   macro avg       0.82      0.79      0.79     23610\n",
      "weighted avg       0.82      0.80      0.79     23610\n",
      "\n"
     ]
    }
   ],
   "source": [
    "#Testing\n",
    "y_pred_test = xgb_clf.predict(x_test)\n",
    "\n",
    "cnf_metrics = confusion_matrix(y_test,y_pred_test)\n",
    "print(\"confusion metrics\\n\",cnf_metrics)\n",
    "\n",
    "accuracy = accuracy_score(y_test,y_pred_test)\n",
    "print(\"accuracy\",accuracy)\n",
    "clf_report = classification_report(y_test,y_pred_test)\n",
    "print(\"clf_report\\n\",clf_report)"
   ]
  },
  {
   "cell_type": "code",
   "execution_count": 83,
   "id": "4bcea561",
   "metadata": {},
   "outputs": [
    {
     "data": {
      "text/plain": [
       "<AxesSubplot:>"
      ]
     },
     "execution_count": 83,
     "metadata": {},
     "output_type": "execute_result"
    },
    {
     "data": {
      "image/png": "[encoded data removed]",
      "text/plain": [
       "<Figure size 640x480 with 1 Axes>"
      ]
     },
     "metadata": {},
     "output_type": "display_data"
    }
   ],
   "source": [
    "s = pd.Series(xgb_clf.feature_importances_,index=x.columns)\n",
    "s.sort_values().plot(kind=\"barh\")"
   ]
  },
  {
   "cell_type": "markdown",
   "id": "718a6e1d",
   "metadata": {},
   "source": [
    "* Long_Term_Cust is not contributing in formation of tree so this feature will be removed"
   ]
  },
  {
   "cell_type": "code",
   "execution_count": 84,
   "id": "25b07a88",
   "metadata": {},
   "outputs": [],
   "source": [
    "x_train_new = x_train.drop(\"Long_Term_Cust\", axis=1) # Removing long_Term_Cust\n",
    "x_test_new = x_test.drop(\"Long_Term_Cust\", axis=1)"
   ]
  },
  {
   "cell_type": "code",
   "execution_count": 85,
   "id": "2915ebd2",
   "metadata": {},
   "outputs": [
    {
     "data": {
      "text/plain": [
       "(47935, 10)"
      ]
     },
     "execution_count": 85,
     "metadata": {},
     "output_type": "execute_result"
    }
   ],
   "source": [
    "x_train_new.shape"
   ]
  },
  {
   "cell_type": "code",
   "execution_count": 86,
   "id": "bc1f2bf0",
   "metadata": {},
   "outputs": [
    {
     "data": {
      "text/html": [
       "<style>#sk-container-id-8 {color: black;background-color: white;}#sk-container-id-8 pre{padding: 0;}#sk-container-id-8 div.sk-toggleable {background-color: white;}#sk-container-id-8 label.sk-toggleable__label {cursor: pointer;display: block;width: 100%;margin-bottom: 0;padding: 0.3em;box-sizing: border-box;text-align: center;}#sk-container-id-8 label.sk-toggleable__label-arrow:before {content: \"▸\";float: left;margin-right: 0.25em;color: #696969;}#sk-container-id-8 label.sk-toggleable__label-arrow:hover:before {color: black;}#sk-container-id-8 div.sk-estimator:hover label.sk-toggleable__label-arrow:before {color: black;}#sk-container-id-8 div.sk-toggleable__content {max-height: 0;max-width: 0;overflow: hidden;text-align: left;background-color: #f0f8ff;}#sk-container-id-8 div.sk-toggleable__content pre {margin: 0.2em;color: black;border-radius: 0.25em;background-color: #f0f8ff;}#sk-container-id-8 input.sk-toggleable__control:checked~div.sk-toggleable__content {max-height: 200px;max-width: 100%;overflow: auto;}#sk-container-id-8 input.sk-toggleable__control:checked~label.sk-toggleable__label-arrow:before {content: \"▾\";}#sk-container-id-8 div.sk-estimator input.sk-toggleable__control:checked~label.sk-toggleable__label {background-color: #d4ebff;}#sk-container-id-8 div.sk-label input.sk-toggleable__control:checked~label.sk-toggleable__label {background-color: #d4ebff;}#sk-container-id-8 input.sk-hidden--visually {border: 0;clip: rect(1px 1px 1px 1px);clip: rect(1px, 1px, 1px, 1px);height: 1px;margin: -1px;overflow: hidden;padding: 0;position: absolute;width: 1px;}#sk-container-id-8 div.sk-estimator {font-family: monospace;background-color: #f0f8ff;border: 1px dotted black;border-radius: 0.25em;box-sizing: border-box;margin-bottom: 0.5em;}#sk-container-id-8 div.sk-estimator:hover {background-color: #d4ebff;}#sk-container-id-8 div.sk-parallel-item::after {content: \"\";width: 100%;border-bottom: 1px solid gray;flex-grow: 1;}#sk-container-id-8 div.sk-label:hover label.sk-toggleable__label {background-color: #d4ebff;}#sk-container-id-8 div.sk-serial::before {content: \"\";position: absolute;border-left: 1px solid gray;box-sizing: border-box;top: 0;bottom: 0;left: 50%;z-index: 0;}#sk-container-id-8 div.sk-serial {display: flex;flex-direction: column;align-items: center;background-color: white;padding-right: 0.2em;padding-left: 0.2em;position: relative;}#sk-container-id-8 div.sk-item {position: relative;z-index: 1;}#sk-container-id-8 div.sk-parallel {display: flex;align-items: stretch;justify-content: center;background-color: white;position: relative;}#sk-container-id-8 div.sk-item::before, #sk-container-id-8 div.sk-parallel-item::before {content: \"\";position: absolute;border-left: 1px solid gray;box-sizing: border-box;top: 0;bottom: 0;left: 50%;z-index: -1;}#sk-container-id-8 div.sk-parallel-item {display: flex;flex-direction: column;z-index: 1;position: relative;background-color: white;}#sk-container-id-8 div.sk-parallel-item:first-child::after {align-self: flex-end;width: 50%;}#sk-container-id-8 div.sk-parallel-item:last-child::after {align-self: flex-start;width: 50%;}#sk-container-id-8 div.sk-parallel-item:only-child::after {width: 0;}#sk-container-id-8 div.sk-dashed-wrapped {border: 1px dashed gray;margin: 0 0.4em 0.5em 0.4em;box-sizing: border-box;padding-bottom: 0.4em;background-color: white;}#sk-container-id-8 div.sk-label label {font-family: monospace;font-weight: bold;display: inline-block;line-height: 1.2em;}#sk-container-id-8 div.sk-label-container {text-align: center;}#sk-container-id-8 div.sk-container {/* jupyter's `normalize.less` sets `[hidden] { display: none; }` but bootstrap.min.css set `[hidden] { display: none !important; }` so we also need the `!important` here to be able to override the default hidden behavior on the sphinx rendered scikit-learn.org. See: https://github.com/scikit-learn/scikit-learn/issues/21755 */display: inline-block !important;position: relative;}#sk-container-id-8 div.sk-text-repr-fallback {display: none;}</style><div id=\"sk-container-id-8\" class=\"sk-top-container\"><div class=\"sk-text-repr-fallback\"><pre>XGBClassifier(base_score=0.5, booster=&#x27;gbtree&#x27;, callbacks=None,\n",
       "              colsample_bylevel=1, colsample_bynode=1, colsample_bytree=1,\n",
       "              early_stopping_rounds=None, enable_categorical=False,\n",
       "              eval_metric=None, feature_types=None, gamma=0, gpu_id=-1,\n",
       "              grow_policy=&#x27;depthwise&#x27;, importance_type=None,\n",
       "              interaction_constraints=&#x27;&#x27;, learning_rate=0.300000012,\n",
       "              max_bin=256, max_cat_threshold=64, max_cat_to_onehot=4,\n",
       "              max_delta_step=0, max_depth=6, max_leaves=0, min_child_weight=1,\n",
       "              missing=nan, monotone_constraints=&#x27;()&#x27;, n_estimators=100,\n",
       "              n_jobs=0, num_parallel_tree=1, predictor=&#x27;auto&#x27;, random_state=0, ...)</pre><b>In a Jupyter environment, please rerun this cell to show the HTML representation or trust the notebook. <br />On GitHub, the HTML representation is unable to render, please try loading this page with nbviewer.org.</b></div><div class=\"sk-container\" hidden><div class=\"sk-item\"><div class=\"sk-estimator sk-toggleable\"><input class=\"sk-toggleable__control sk-hidden--visually\" id=\"sk-estimator-id-8\" type=\"checkbox\" checked><label for=\"sk-estimator-id-8\" class=\"sk-toggleable__label sk-toggleable__label-arrow\">XGBClassifier</label><div class=\"sk-toggleable__content\"><pre>XGBClassifier(base_score=0.5, booster=&#x27;gbtree&#x27;, callbacks=None,\n",
       "              colsample_bylevel=1, colsample_bynode=1, colsample_bytree=1,\n",
       "              early_stopping_rounds=None, enable_categorical=False,\n",
       "              eval_metric=None, feature_types=None, gamma=0, gpu_id=-1,\n",
       "              grow_policy=&#x27;depthwise&#x27;, importance_type=None,\n",
       "              interaction_constraints=&#x27;&#x27;, learning_rate=0.300000012,\n",
       "              max_bin=256, max_cat_threshold=64, max_cat_to_onehot=4,\n",
       "              max_delta_step=0, max_depth=6, max_leaves=0, min_child_weight=1,\n",
       "              missing=nan, monotone_constraints=&#x27;()&#x27;, n_estimators=100,\n",
       "              n_jobs=0, num_parallel_tree=1, predictor=&#x27;auto&#x27;, random_state=0, ...)</pre></div></div></div></div></div>"
      ],
      "text/plain": [
       "XGBClassifier(base_score=0.5, booster='gbtree', callbacks=None,\n",
       "              colsample_bylevel=1, colsample_bynode=1, colsample_bytree=1,\n",
       "              early_stopping_rounds=None, enable_categorical=False,\n",
       "              eval_metric=None, feature_types=None, gamma=0, gpu_id=-1,\n",
       "              grow_policy='depthwise', importance_type=None,\n",
       "              interaction_constraints='', learning_rate=0.300000012,\n",
       "              max_bin=256, max_cat_threshold=64, max_cat_to_onehot=4,\n",
       "              max_delta_step=0, max_depth=6, max_leaves=0, min_child_weight=1,\n",
       "              missing=nan, monotone_constraints='()', n_estimators=100,\n",
       "              n_jobs=0, num_parallel_tree=1, predictor='auto', random_state=0, ...)"
      ]
     },
     "execution_count": 86,
     "metadata": {},
     "output_type": "execute_result"
    }
   ],
   "source": [
    "xgb_clf_new = XGBClassifier()\n",
    "xgb_clf_new.fit(x_train_new,y_train)"
   ]
  },
  {
   "cell_type": "code",
   "execution_count": 87,
   "id": "da00b270",
   "metadata": {},
   "outputs": [
    {
     "name": "stdout",
     "output_type": "stream",
     "text": [
      "confusion metrics\n",
      " [[24949   983]\n",
      " [ 6789 15214]]\n",
      "accuracy 0.837863773860436\n",
      "clf_report\n",
      "               precision    recall  f1-score   support\n",
      "\n",
      "           0       0.79      0.96      0.87     25932\n",
      "           1       0.94      0.69      0.80     22003\n",
      "\n",
      "    accuracy                           0.84     47935\n",
      "   macro avg       0.86      0.83      0.83     47935\n",
      "weighted avg       0.86      0.84      0.83     47935\n",
      "\n"
     ]
    }
   ],
   "source": [
    "#Training \n",
    "y_pred_train = xgb_clf_new.predict(x_train_new)\n",
    "\n",
    "cnf_metrics = confusion_matrix(y_train,y_pred_train)\n",
    "print(\"confusion metrics\\n\",cnf_metrics)\n",
    "\n",
    "accuracy = accuracy_score(y_train,y_pred_train)\n",
    "print(\"accuracy\",accuracy)\n",
    "clf_report = classification_report(y_train,y_pred_train)\n",
    "print(\"clf_report\\n\",clf_report)"
   ]
  },
  {
   "cell_type": "code",
   "execution_count": 88,
   "id": "19fd3431",
   "metadata": {},
   "outputs": [
    {
     "name": "stdout",
     "output_type": "stream",
     "text": [
      "confusion metrics\n",
      " [[11912   829]\n",
      " [ 3941  6928]]\n",
      "accuracy 0.7979669631512071\n",
      "clf_report\n",
      "               precision    recall  f1-score   support\n",
      "\n",
      "           0       0.75      0.93      0.83     12741\n",
      "           1       0.89      0.64      0.74     10869\n",
      "\n",
      "    accuracy                           0.80     23610\n",
      "   macro avg       0.82      0.79      0.79     23610\n",
      "weighted avg       0.82      0.80      0.79     23610\n",
      "\n"
     ]
    }
   ],
   "source": [
    "#Testing\n",
    "y_pred_test = xgb_clf_new.predict(x_test_new)\n",
    "\n",
    "cnf_metrics = confusion_matrix(y_test,y_pred_test)\n",
    "print(\"confusion metrics\\n\",cnf_metrics)\n",
    "\n",
    "accuracy = accuracy_score(y_test,y_pred_test)\n",
    "print(\"accuracy\",accuracy)\n",
    "clf_report = classification_report(y_test,y_pred_test)\n",
    "print(\"clf_report\\n\",clf_report)"
   ]
  },
  {
   "cell_type": "markdown",
   "id": "1dc789cb",
   "metadata": {},
   "source": [
    "### xGboost with PCA"
   ]
  },
  {
   "cell_type": "code",
   "execution_count": 89,
   "id": "e376f94f",
   "metadata": {},
   "outputs": [
    {
     "data": {
      "text/html": [
       "<style>#sk-container-id-9 {color: black;background-color: white;}#sk-container-id-9 pre{padding: 0;}#sk-container-id-9 div.sk-toggleable {background-color: white;}#sk-container-id-9 label.sk-toggleable__label {cursor: pointer;display: block;width: 100%;margin-bottom: 0;padding: 0.3em;box-sizing: border-box;text-align: center;}#sk-container-id-9 label.sk-toggleable__label-arrow:before {content: \"▸\";float: left;margin-right: 0.25em;color: #696969;}#sk-container-id-9 label.sk-toggleable__label-arrow:hover:before {color: black;}#sk-container-id-9 div.sk-estimator:hover label.sk-toggleable__label-arrow:before {color: black;}#sk-container-id-9 div.sk-toggleable__content {max-height: 0;max-width: 0;overflow: hidden;text-align: left;background-color: #f0f8ff;}#sk-container-id-9 div.sk-toggleable__content pre {margin: 0.2em;color: black;border-radius: 0.25em;background-color: #f0f8ff;}#sk-container-id-9 input.sk-toggleable__control:checked~div.sk-toggleable__content {max-height: 200px;max-width: 100%;overflow: auto;}#sk-container-id-9 input.sk-toggleable__control:checked~label.sk-toggleable__label-arrow:before {content: \"▾\";}#sk-container-id-9 div.sk-estimator input.sk-toggleable__control:checked~label.sk-toggleable__label {background-color: #d4ebff;}#sk-container-id-9 div.sk-label input.sk-toggleable__control:checked~label.sk-toggleable__label {background-color: #d4ebff;}#sk-container-id-9 input.sk-hidden--visually {border: 0;clip: rect(1px 1px 1px 1px);clip: rect(1px, 1px, 1px, 1px);height: 1px;margin: -1px;overflow: hidden;padding: 0;position: absolute;width: 1px;}#sk-container-id-9 div.sk-estimator {font-family: monospace;background-color: #f0f8ff;border: 1px dotted black;border-radius: 0.25em;box-sizing: border-box;margin-bottom: 0.5em;}#sk-container-id-9 div.sk-estimator:hover {background-color: #d4ebff;}#sk-container-id-9 div.sk-parallel-item::after {content: \"\";width: 100%;border-bottom: 1px solid gray;flex-grow: 1;}#sk-container-id-9 div.sk-label:hover label.sk-toggleable__label {background-color: #d4ebff;}#sk-container-id-9 div.sk-serial::before {content: \"\";position: absolute;border-left: 1px solid gray;box-sizing: border-box;top: 0;bottom: 0;left: 50%;z-index: 0;}#sk-container-id-9 div.sk-serial {display: flex;flex-direction: column;align-items: center;background-color: white;padding-right: 0.2em;padding-left: 0.2em;position: relative;}#sk-container-id-9 div.sk-item {position: relative;z-index: 1;}#sk-container-id-9 div.sk-parallel {display: flex;align-items: stretch;justify-content: center;background-color: white;position: relative;}#sk-container-id-9 div.sk-item::before, #sk-container-id-9 div.sk-parallel-item::before {content: \"\";position: absolute;border-left: 1px solid gray;box-sizing: border-box;top: 0;bottom: 0;left: 50%;z-index: -1;}#sk-container-id-9 div.sk-parallel-item {display: flex;flex-direction: column;z-index: 1;position: relative;background-color: white;}#sk-container-id-9 div.sk-parallel-item:first-child::after {align-self: flex-end;width: 50%;}#sk-container-id-9 div.sk-parallel-item:last-child::after {align-self: flex-start;width: 50%;}#sk-container-id-9 div.sk-parallel-item:only-child::after {width: 0;}#sk-container-id-9 div.sk-dashed-wrapped {border: 1px dashed gray;margin: 0 0.4em 0.5em 0.4em;box-sizing: border-box;padding-bottom: 0.4em;background-color: white;}#sk-container-id-9 div.sk-label label {font-family: monospace;font-weight: bold;display: inline-block;line-height: 1.2em;}#sk-container-id-9 div.sk-label-container {text-align: center;}#sk-container-id-9 div.sk-container {/* jupyter's `normalize.less` sets `[hidden] { display: none; }` but bootstrap.min.css set `[hidden] { display: none !important; }` so we also need the `!important` here to be able to override the default hidden behavior on the sphinx rendered scikit-learn.org. See: https://github.com/scikit-learn/scikit-learn/issues/21755 */display: inline-block !important;position: relative;}#sk-container-id-9 div.sk-text-repr-fallback {display: none;}</style><div id=\"sk-container-id-9\" class=\"sk-top-container\"><div class=\"sk-text-repr-fallback\"><pre>XGBClassifier(base_score=0.5, booster=&#x27;gbtree&#x27;, callbacks=None,\n",
       "              colsample_bylevel=1, colsample_bynode=1, colsample_bytree=1,\n",
       "              early_stopping_rounds=None, enable_categorical=False,\n",
       "              eval_metric=None, feature_types=None, gamma=0, gpu_id=-1,\n",
       "              grow_policy=&#x27;depthwise&#x27;, importance_type=None,\n",
       "              interaction_constraints=&#x27;&#x27;, learning_rate=0.300000012,\n",
       "              max_bin=256, max_cat_threshold=64, max_cat_to_onehot=4,\n",
       "              max_delta_step=0, max_depth=6, max_leaves=0, min_child_weight=1,\n",
       "              missing=nan, monotone_constraints=&#x27;()&#x27;, n_estimators=100,\n",
       "              n_jobs=0, num_parallel_tree=1, predictor=&#x27;auto&#x27;, random_state=0, ...)</pre><b>In a Jupyter environment, please rerun this cell to show the HTML representation or trust the notebook. <br />On GitHub, the HTML representation is unable to render, please try loading this page with nbviewer.org.</b></div><div class=\"sk-container\" hidden><div class=\"sk-item\"><div class=\"sk-estimator sk-toggleable\"><input class=\"sk-toggleable__control sk-hidden--visually\" id=\"sk-estimator-id-9\" type=\"checkbox\" checked><label for=\"sk-estimator-id-9\" class=\"sk-toggleable__label sk-toggleable__label-arrow\">XGBClassifier</label><div class=\"sk-toggleable__content\"><pre>XGBClassifier(base_score=0.5, booster=&#x27;gbtree&#x27;, callbacks=None,\n",
       "              colsample_bylevel=1, colsample_bynode=1, colsample_bytree=1,\n",
       "              early_stopping_rounds=None, enable_categorical=False,\n",
       "              eval_metric=None, feature_types=None, gamma=0, gpu_id=-1,\n",
       "              grow_policy=&#x27;depthwise&#x27;, importance_type=None,\n",
       "              interaction_constraints=&#x27;&#x27;, learning_rate=0.300000012,\n",
       "              max_bin=256, max_cat_threshold=64, max_cat_to_onehot=4,\n",
       "              max_delta_step=0, max_depth=6, max_leaves=0, min_child_weight=1,\n",
       "              missing=nan, monotone_constraints=&#x27;()&#x27;, n_estimators=100,\n",
       "              n_jobs=0, num_parallel_tree=1, predictor=&#x27;auto&#x27;, random_state=0, ...)</pre></div></div></div></div></div>"
      ],
      "text/plain": [
       "XGBClassifier(base_score=0.5, booster='gbtree', callbacks=None,\n",
       "              colsample_bylevel=1, colsample_bynode=1, colsample_bytree=1,\n",
       "              early_stopping_rounds=None, enable_categorical=False,\n",
       "              eval_metric=None, feature_types=None, gamma=0, gpu_id=-1,\n",
       "              grow_policy='depthwise', importance_type=None,\n",
       "              interaction_constraints='', learning_rate=0.300000012,\n",
       "              max_bin=256, max_cat_threshold=64, max_cat_to_onehot=4,\n",
       "              max_delta_step=0, max_depth=6, max_leaves=0, min_child_weight=1,\n",
       "              missing=nan, monotone_constraints='()', n_estimators=100,\n",
       "              n_jobs=0, num_parallel_tree=1, predictor='auto', random_state=0, ...)"
      ]
     },
     "execution_count": 89,
     "metadata": {},
     "output_type": "execute_result"
    }
   ],
   "source": [
    "xgb_clf_pca = XGBClassifier()\n",
    "xgb_clf_pca.fit(x_train_pca,y_train)"
   ]
  },
  {
   "cell_type": "code",
   "execution_count": 90,
   "id": "ea47d7b2",
   "metadata": {},
   "outputs": [
    {
     "name": "stdout",
     "output_type": "stream",
     "text": [
      "confusion metrics\n",
      " [[20143  5789]\n",
      " [ 6137 15866]]\n",
      "accuracy 0.7512047564410139\n",
      "clf_report\n",
      "               precision    recall  f1-score   support\n",
      "\n",
      "           0       0.77      0.78      0.77     25932\n",
      "           1       0.73      0.72      0.73     22003\n",
      "\n",
      "    accuracy                           0.75     47935\n",
      "   macro avg       0.75      0.75      0.75     47935\n",
      "weighted avg       0.75      0.75      0.75     47935\n",
      "\n"
     ]
    }
   ],
   "source": [
    "#Training \n",
    "y_pred_train = xgb_clf_pca.predict(x_train_pca)\n",
    "\n",
    "cnf_metrics = confusion_matrix(y_train,y_pred_train)\n",
    "print(\"confusion metrics\\n\",cnf_metrics)\n",
    "\n",
    "accuracy = accuracy_score(y_train,y_pred_train)\n",
    "print(\"accuracy\",accuracy)\n",
    "clf_report = classification_report(y_train,y_pred_train)\n",
    "print(\"clf_report\\n\",clf_report)"
   ]
  },
  {
   "cell_type": "markdown",
   "id": "c1c8a423",
   "metadata": {},
   "source": [
    "## Model Building"
   ]
  },
  {
   "cell_type": "markdown",
   "id": "cada5d13",
   "metadata": {},
   "source": [
    "XGboost gives better accuracy"
   ]
  },
  {
   "cell_type": "code",
   "execution_count": 91,
   "id": "752b4066",
   "metadata": {},
   "outputs": [],
   "source": [
    "# with open(\"xgb_model.pkl\",\"wb\") as f:\n",
    "#     pickle.dump(xgb_clf_new,f)"
   ]
  },
  {
   "cell_type": "code",
   "execution_count": 92,
   "id": "914f7b06",
   "metadata": {},
   "outputs": [],
   "source": [
    "# list(x_train.columns)\n",
    "data = {\"columns\":list(x_train_new.columns)}"
   ]
  },
  {
   "cell_type": "markdown",
   "id": "c4e5f798",
   "metadata": {},
   "source": [
    "## Testing User input"
   ]
  },
  {
   "cell_type": "code",
   "execution_count": 93,
   "id": "5dda42f1",
   "metadata": {},
   "outputs": [
    {
     "data": {
      "text/plain": [
       "['City_Code',\n",
       " 'Accomodation_Type',\n",
       " 'Reco_Insurance_Type',\n",
       " 'Married',\n",
       " 'Health_Indicator',\n",
       " 'Holding_Policy_Duration',\n",
       " 'Holding_Policy_Type',\n",
       " 'Reco_Policy_Cat',\n",
       " 'Reco_Policy_Premium',\n",
       " 'Avg_Age']"
      ]
     },
     "execution_count": 93,
     "metadata": {},
     "output_type": "execute_result"
    }
   ],
   "source": [
    "list(x_train_new.columns)"
   ]
  },
  {
   "cell_type": "code",
   "execution_count": 94,
   "id": "c3db6891",
   "metadata": {},
   "outputs": [],
   "source": [
    "vals = {'Rented':0,'Owned':1,'Individual':0,'Joint':1,'No':0,'Yes':1}\n",
    "cols = ['Accomodation_Type','Reco_Insurance_Type','Married','Long_Term_Cust']\n",
    "cat1 = ['C3', 'C5', 'C24', 'C8', 'C9', 'C1', 'C15', 'C28', 'C27', 'C7',\n",
    "       'C20', 'C25', 'C4', 'C2', 'C34', 'C10', 'C17', 'C18', 'C16', 'C29',\n",
    "       'C33', 'C26', 'C19', 'C6', 'C12', 'C13', 'C11', 'C14', 'C22',\n",
    "       'C23', 'C21', 'C36', 'C32', 'C30', 'C35', 'C31'] \n",
    "cat2 = ['X1', 'X2', 'X4', 'X3', 'X6', 'X5', 'X8', 'X7', 'X9']"
   ]
  },
  {
   "cell_type": "code",
   "execution_count": 95,
   "id": "4f606426",
   "metadata": {},
   "outputs": [],
   "source": [
    "City_Code = {}\n",
    "lst1  = range(0,len(cat1))\n",
    "j=0\n",
    "for i in cat1:\n",
    "    City_Code[i] = lst1[j]\n",
    "    j+=1"
   ]
  },
  {
   "cell_type": "code",
   "execution_count": 96,
   "id": "323f2b6b",
   "metadata": {},
   "outputs": [],
   "source": [
    "Health_Indicator = {}\n",
    "lst2  = range(0,len(cat2))\n",
    "j=0\n",
    "for i in cat2:\n",
    "    Health_Indicator[i] = lst2[j]\n",
    "    j+=1"
   ]
  },
  {
   "cell_type": "code",
   "execution_count": 97,
   "id": "51eb3b5d",
   "metadata": {},
   "outputs": [],
   "source": [
    "project_data = {'Accomodation_Type':{'Rented':0,'Owned':1},'Reco_Insurance_Type':{'Individual':0,'Joint':1},\n",
    "                \"Married\":{\"yes\":1,\"no\":0},\"Health_Indicator\":Health_Indicator,\"City_Code\":City_Code,\"columns\":list(x_train_new.columns)}"
   ]
  },
  {
   "cell_type": "code",
   "execution_count": 98,
   "id": "32027ee6",
   "metadata": {},
   "outputs": [],
   "source": [
    "# with open(\"project_data.json\",\"w\") as f: #features for single row\n",
    "#     json.dump(project_data,f)"
   ]
  },
  {
   "cell_type": "code",
   "execution_count": 99,
   "id": "5618aec5",
   "metadata": {},
   "outputs": [],
   "source": [
    "City_Code               = \"C31\"\n",
    "Accomodation_Type       = \"Rented\"\n",
    "Reco_Insurance_Type     = \"Individual\"\n",
    "Married                 = \"yes\"\n",
    "Health_Indicator        = \"X4\" \n",
    "Holding_Policy_Duration = 7\n",
    "Holding_Policy_Type     = 1.0\n",
    "Reco_Policy_Cat         = 19\n",
    "Reco_Policy_Premium     = 30500 \n",
    "Avg_Age                 = 40"
   ]
  },
  {
   "cell_type": "code",
   "execution_count": 108,
   "id": "b22b6ed1",
   "metadata": {},
   "outputs": [
    {
     "data": {
      "text/plain": [
       "(10,)"
      ]
     },
     "execution_count": 108,
     "metadata": {},
     "output_type": "execute_result"
    }
   ],
   "source": [
    "column_names  = x_train_new.columns\n",
    "test_array    = np.zeros(x_train_new.shape[1])\n",
    "test_array[0] = project_data['City_Code'][City_Code]\n",
    "test_array[1] = project_data['Accomodation_Type'][Accomodation_Type]\n",
    "test_array[2] = project_data['Reco_Insurance_Type'][Reco_Insurance_Type]\n",
    "test_array[3] = project_data['Married'][Married]\n",
    "test_array[4] = project_data[\"Health_Indicator\"][Health_Indicator]\n",
    "test_array[5] = Holding_Policy_Duration\n",
    "test_array[6] = Holding_Policy_Type\n",
    "test_array[7] = Reco_Policy_Cat\n",
    "test_array[8] = Reco_Policy_Premium\n",
    "test_array[9] = Avg_Age\n",
    " \n",
    "test_array.shape"
   ]
  },
  {
   "cell_type": "code",
   "execution_count": 110,
   "id": "05aefd38",
   "metadata": {},
   "outputs": [
    {
     "data": {
      "text/plain": [
       "array([[3.50e+01, 0.00e+00, 0.00e+00, 1.00e+00, 2.00e+00, 7.00e+00,\n",
       "        1.00e+00, 1.90e+01, 3.05e+04, 4.00e+01]])"
      ]
     },
     "execution_count": 110,
     "metadata": {},
     "output_type": "execute_result"
    }
   ],
   "source": [
    "array = test_array.reshape(1,10)\n",
    "array"
   ]
  },
  {
   "cell_type": "code",
   "execution_count": 111,
   "id": "f9897413",
   "metadata": {},
   "outputs": [
    {
     "data": {
      "text/plain": [
       "array([0])"
      ]
     },
     "execution_count": 111,
     "metadata": {},
     "output_type": "execute_result"
    }
   ],
   "source": [
    "xgb_clf_new.predict(array)"
   ]
  },
  {
   "cell_type": "code",
   "execution_count": null,
   "id": "cc35bca5",
   "metadata": {},
   "outputs": [],
   "source": []
  }
 ],
 "metadata": {
  "kernelspec": {
   "display_name": "Python 3 (ipykernel)",
   "language": "python",
   "name": "python3"
  },
  "language_info": {
   "codemirror_mode": {
    "name": "ipython",
    "version": 3
   },
   "file_extension": ".py",
   "mimetype": "text/x-python",
   "name": "python",
   "nbconvert_exporter": "python",
   "pygments_lexer": "ipython3",
   "version": "3.9.13"
  },
  "vscode": {
   "interpreter": {
    "hash": "fd36615d1d8e755ce7cd18d5815e2296aba8be43fa4314aae0cb6ca198d7a8e3"
   }
  }
 },
 "nbformat": 4,
 "nbformat_minor": 5
}
